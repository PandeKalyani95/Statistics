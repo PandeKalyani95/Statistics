{
 "cells": [
  {
   "cell_type": "markdown",
   "metadata": {},
   "source": [
    "# ***Problem Statement 1:***\n",
    "\n",
    "In each of the following situations, state whether it is a correctly stated hypothesis\n",
    "testing problem and why?\n",
    "   - 1. H0: μ = 25, H1: μ ≠ 25\n",
    "   - 2. H0: σ > 10, H1: σ = 10\n",
    "   - 3. H0: x = 50, H1: x ≠ 50\n",
    "   - 4. H0: p = 0.1, H1: p = 0.5\n",
    "   - 5. H0: s = 30, H1: s > 30"
   ]
  },
  {
   "cell_type": "markdown",
   "metadata": {},
   "source": [
    "### **1.1** **`Solution`**:-"
   ]
  },
  {
   "cell_type": "markdown",
   "metadata": {},
   "source": [
    "- `H0: μ = 25, H1: μ ≠ 25` : **Correctly stated hypothesis testing**,\n",
    "     - The Statement\n",
    "          - H0: μ = 25\n",
    "          - is called **the null hypothesis**. this is a claim that is initially assumed to be true.\n",
    "     - The Statement\n",
    "          - H1: μ ≠ 25\n",
    "          - is called **the alternative hypothesis** and it is a statement that contradicts the null hypothesis\n",
    "- Because the alternative hypothesis specifies values of  μ that could be either greater or less than 25, it is called a **two-sided alterative hypothesis**      "
   ]
  },
  {
   "cell_type": "markdown",
   "metadata": {},
   "source": [
    "### **1.2** **`Solution`**:-"
   ]
  },
  {
   "cell_type": "markdown",
   "metadata": {},
   "source": [
    "- `H0: σ > 10, H1: σ = 10` : **Wrongly stated hypothesis testing**\n",
    "- We will always state the null hypothesis as an equality claim. \n",
    "   - however,\n",
    "     - when the **alternative hypothesis** is stated with the `< sign`, the implicit claim in the **null hypothesis** can be taken as `>=`.\n",
    "     - when the **alternative hypothesis** is stated with the `> sign`. the implicit claim in the **null hypothesi**s can be taken as `<=`."
   ]
  },
  {
   "cell_type": "markdown",
   "metadata": {},
   "source": [
    "### **1.3** **`Solution`**:-"
   ]
  },
  {
   "cell_type": "markdown",
   "metadata": {},
   "source": [
    "- `H0: x = 50, H1: x ≠ 50` : **Wrongly stated hypothesis testing**\n",
    "  - It is important to remember that **hypothesis are always statements about** the `population` or `distribution` under study, not statements about the sample."
   ]
  },
  {
   "cell_type": "markdown",
   "metadata": {},
   "source": [
    "### **1.4** **`Solution`**:-"
   ]
  },
  {
   "cell_type": "markdown",
   "metadata": {},
   "source": [
    "- `H0: p = 0.1, H1: p = 0.5`: **Wrongly stated hypothesis testing**\n",
    "   - Value in both hypothesis are **different** "
   ]
  },
  {
   "cell_type": "markdown",
   "metadata": {},
   "source": [
    "### **1.5** **`Solution`**:-"
   ]
  },
  {
   "cell_type": "markdown",
   "metadata": {},
   "source": [
    "- `H0: s = 30, H1: s > 30`: Wrongly stated hypothesis testing\n",
    "   - Hypothesis are **always statements about** the `population` or `distribution` under study, not statements about the sample. "
   ]
  },
  {
   "cell_type": "markdown",
   "metadata": {},
   "source": [
    "# ***Problem Statement 2:***\n",
    "\n",
    "The college bookstore tells prospective students that the average cost of its textbooks is Rs. 52 with a standard deviation of Rs. 4.50. A group of smart statistics students thinks that the average cost is higher. To test the bookstore’s claim against their alternative, the students will select a random sample of size 100. Assume that the mean from their random sample is Rs. 52.80. Perform a hypothesis test at the 5% level of significance and state your decision."
   ]
  },
  {
   "cell_type": "markdown",
   "metadata": {},
   "source": [
    "#### **`Solution`**:-"
   ]
  },
  {
   "cell_type": "markdown",
   "metadata": {},
   "source": [
    "#### Step - 1: Set The Hypothesis\n",
    "- To test\n",
    "    - H0: **mu = 52** \n",
    "    - H1: **mu > 52**\n"
   ]
  },
  {
   "cell_type": "markdown",
   "metadata": {},
   "source": [
    "#### Step - 2: calculate the test statistics\n",
    "![image](https://miro.medium.com/max/287/1*b7iZyQyP8SJ-W51x_L5ekg.png)\n"
   ]
  },
  {
   "cell_type": "code",
   "execution_count": 2,
   "metadata": {},
   "outputs": [],
   "source": [
    "import math\n",
    "\n",
    "n = 100           # Sample Size\n",
    "x_bar = 52.80     # Sample Mean\n",
    "mu = 52           # Population Mean\n",
    "sigma = 4.50      # Standard Deviation of Population"
   ]
  },
  {
   "cell_type": "code",
   "execution_count": 5,
   "metadata": {},
   "outputs": [
    {
     "name": "stdout",
     "output_type": "stream",
     "text": [
      "Z Test : 1.78\n"
     ]
    }
   ],
   "source": [
    "Z_Test = (x_bar - mu) / (sigma /math.sqrt(n))\n",
    "print(\"Z Test :\",round(Z_Test, 2))"
   ]
  },
  {
   "cell_type": "markdown",
   "metadata": {},
   "source": [
    "### Step – 3 Set Rejection region\n",
    "- Set up the alpha (level of significance). It is given in the problem.\n",
    "- Considering alpha as `0.05`. \n",
    "- Tabulated z for 0.05 alpha (l.o.s) is `1.960`\n",
    "- we have\n",
    "   - **`Z(cal) = 1.78`**\n",
    "   - **`Z(tab (0.05)) = 1.960`**\n",
    "\n"
   ]
  },
  {
   "cell_type": "markdown",
   "metadata": {},
   "source": [
    "### Step – 4 Conclude\n",
    "- As per z test results\n",
    "    - **`Z(tab (0.05)) > Z(cal)`**\n",
    "- `z = 1.78` **(This test statistic lies in the Acceptance Region for Ho.)**\n",
    "    - ***`Accept H0`*** \n",
    "- Based on this one sample of size 100 with a one-tailed test on the right and α = 0.05 , it seems as though we can not believe the bookstore’s claim that the mean cost of textbooks is Rs. 52. The higher value of Rs. 52.80 is probably due to random chance. "
   ]
  },
  {
   "cell_type": "markdown",
   "metadata": {},
   "source": [
    "# ***Problem Statement 3:***\n",
    "A certain chemical pollutant in the Genesee River has been constant for several years with mean μ = 34 ppm (parts per million) and standard deviation σ = 8 ppm. A group of factory representatives whose companies discharge liquids into the river is now claiming that they have lowered the average with improved filtration devices. A group of environmentalists will test to see if this is true at the 1% level of significance. Assume \\ that their sample of size 50 gives a mean of 32.5 ppm. Perform a hypothesis test at the 1% level of significance and state your decision."
   ]
  },
  {
   "cell_type": "markdown",
   "metadata": {},
   "source": [
    "#### **`Solution`**:-"
   ]
  },
  {
   "cell_type": "markdown",
   "metadata": {},
   "source": [
    "#### Step - 1: Set The Hypothesis\n",
    "- To test\n",
    "    - H0: **mu = 34** \n",
    "    - H1: **mu < 34**\n"
   ]
  },
  {
   "cell_type": "markdown",
   "metadata": {},
   "source": [
    "#### Step - 2: calculate the test statistics\n",
    "![image](https://miro.medium.com/max/287/1*b7iZyQyP8SJ-W51x_L5ekg.png)\n"
   ]
  },
  {
   "cell_type": "code",
   "execution_count": 8,
   "metadata": {},
   "outputs": [],
   "source": [
    "import math\n",
    "\n",
    "n = 50           # Sample Size\n",
    "x_bar = 32.5     # Sample Mean\n",
    "mu = 34          # Population Mean\n",
    "sigma = 8        # Standard Deviation of Population"
   ]
  },
  {
   "cell_type": "code",
   "execution_count": 7,
   "metadata": {},
   "outputs": [
    {
     "name": "stdout",
     "output_type": "stream",
     "text": [
      "Z Test : -1.33\n"
     ]
    }
   ],
   "source": [
    "Z_Test = (x_bar - mu) / (sigma /math.sqrt(n))\n",
    "print(\"Z Test :\",round(Z_Test, 2))"
   ]
  },
  {
   "cell_type": "markdown",
   "metadata": {},
   "source": [
    "### Step – 3 Set Rejection region\n",
    "- Set up the alpha (level of significance). It is given in the problem.\n",
    "- Considering alpha as `0.01`. \n",
    "- Tabulated z for 0.01 alpha (l.o.s) is `2.576`\n",
    "- we have\n",
    "   - **`Z(cal) = -1.33`**\n",
    "   - **`Z(tab (0.01)) = 2.576`**\n",
    "\n"
   ]
  },
  {
   "cell_type": "markdown",
   "metadata": {},
   "source": [
    "### Step – 4 Conclude\n",
    "- As per z test results\n",
    "    - **`Z(tab (0.01)) > Z(cal)`**\n",
    "- `z = -1.33` **(This test statistic lies in the Acceptance Region for H0.)**\n",
    "    - ***`Accept H0`*** \n",
    "\n",
    "- Based on this one sample of size 50 with a one-tailed test on the left andα = 0.01, it seems as though we can not believe the factories claim that the mean amount of pollutant is less than 34 ppm. The lower value of 32.5 ppm is probably due to random chance.  "
   ]
  },
  {
   "cell_type": "markdown",
   "metadata": {},
   "source": [
    "# ***Problem Statement 4:***\n",
    "Based on population figures and other general information on the U.S. population, suppose it has been estimated that, on average, a family of four in the U.S. spends about $1135 annually on dental expenditures. Suppose further that a regional dental association wants to test to determine if this figure is accurate for their area of country. To test this, 22 families of 4 are randomly selected from the population in that area of the country and a log is kept of the family’s dental expenditure for one year. The resulting data are given below. Assuming, that dental expenditure is normally distributed in the population, use the data and an alpha of 0.5 to test the dental association’s hypothesis.\n",
    "\n",
    "- `1008, 812, 1117, 1323, 1308, 1415, 831, 1021, 1287, 851, 930, 730, 699, 872, 913, 944, 954, 987, 1695, 995, 1003, 994`"
   ]
  },
  {
   "cell_type": "markdown",
   "metadata": {},
   "source": [
    "#### **`Solution`**:-"
   ]
  },
  {
   "cell_type": "markdown",
   "metadata": {},
   "source": [
    "### Step 1:\n",
    "- Plug the information into the formula and solve:"
   ]
  },
  {
   "cell_type": "code",
   "execution_count": 1,
   "metadata": {},
   "outputs": [],
   "source": [
    "import numpy as np"
   ]
  },
  {
   "cell_type": "code",
   "execution_count": 5,
   "metadata": {},
   "outputs": [],
   "source": [
    "data=[1008, 812, 1117, 1323, 1308, 1415, 831, 1021, 1287, 851, 930, 730, 699, 872, 913, 944, 954, 987, 1695, 995, 1003, 994]"
   ]
  },
  {
   "cell_type": "code",
   "execution_count": 8,
   "metadata": {},
   "outputs": [],
   "source": [
    "n = 22\n",
    "x_bar = np.sum(data,axis=0)/len(data) \n",
    "mu = 1135\n",
    "std = np.std(data)"
   ]
  },
  {
   "cell_type": "markdown",
   "metadata": {},
   "source": [
    "![image](https://encrypted-tbn0.gstatic.com/images?q=tbn:ANd9GcR3sKe0BHB81Qg4aushQhQ93u6V-uD2w-CY0g&usqp=CAU)"
   ]
  },
  {
   "cell_type": "markdown",
   "metadata": {},
   "source": [
    "**where** ,\n",
    "- `x̅` is the sample mean, \n",
    "- `μ` is the population mean, \n",
    "- `s` is the standard deviation of the sample, \n",
    "- `n` is the sample size. "
   ]
  },
  {
   "cell_type": "code",
   "execution_count": 23,
   "metadata": {},
   "outputs": [
    {
     "name": "stdout",
     "output_type": "stream",
     "text": [
      "Calculated t:  -2.07\n"
     ]
    }
   ],
   "source": [
    "t_score = (x_bar - mu)/ (std/n**0.5) \n",
    "print(\"Calculated t: \", round(t_score, 2))"
   ]
  },
  {
   "cell_type": "markdown",
   "metadata": {},
   "source": [
    "### Step 2: \n",
    "- Subtract 1 from the sample size to get the degrees of freedom:\n",
    "   - `df = n – 1 = 21` "
   ]
  },
  {
   "cell_type": "code",
   "execution_count": 18,
   "metadata": {},
   "outputs": [],
   "source": [
    "df = n - 1\n",
    "alpha = 0.5"
   ]
  },
  {
   "cell_type": "markdown",
   "metadata": {},
   "source": [
    "### Step 3: Set Rejection region\n",
    "- Find the p-value in the t-table, using the degrees of freedom in\n",
    "- Set up the alpha (level of significance). It is given in the problem.\n",
    "- Considering alpha as `0.5`. "
   ]
  },
  {
   "cell_type": "code",
   "execution_count": 27,
   "metadata": {},
   "outputs": [
    {
     "name": "stdout",
     "output_type": "stream",
     "text": [
      "Critical Region:  ( -0.686  ,  0.686 )\n"
     ]
    }
   ],
   "source": [
    "import scipy.stats as stats\n",
    "\n",
    "upper = stats.t.ppf(1-(alpha/2),df=21)\n",
    "lower = stats.t.ppf((alpha/2),df=21)\n",
    "print(\"Critical Region: \", \"(\", round(lower, 3),\" , \", round(upper, 3), \")\")"
   ]
  },
  {
   "cell_type": "markdown",
   "metadata": {},
   "source": [
    "\n",
    "- Tabulated t for 0.5 alpha (l.o.s) is -0.686\n",
    "- we have\n",
    "   - **`t(cal) = -2.07`**\n",
    "   - **`Critical Region:  ( -0.686  ,  0.686 )`**\n"
   ]
  },
  {
   "cell_type": "markdown",
   "metadata": {},
   "source": [
    "### Step – 4 Conclude\n",
    "- As per t test results\n",
    "   - `t = -2.07` **(This test statistic does not lies in the Critical Region)**\n",
    "    - Hence we ***`Reject H0`*** \n",
    "   "
   ]
  },
  {
   "cell_type": "markdown",
   "metadata": {},
   "source": [
    "# ***Problem Statement 5:***\n",
    "In a report prepared by the Economic Research Department of a major bank the Department manager maintains that the average annual family income on Metropolis is 48432. What do you conclude about the validity of the report if a random sample of 400 families shows and average income of 48,574 with a standard deviation of 2000?"
   ]
  },
  {
   "cell_type": "markdown",
   "metadata": {},
   "source": [
    "#### **`Solution`**:-"
   ]
  },
  {
   "cell_type": "markdown",
   "metadata": {},
   "source": [
    "#### Step - 1: Set The Hypothesis\n",
    "- To test\n",
    "    - H0: **mu = 48432** \n",
    "    - H1: **mu != 48432**\n"
   ]
  },
  {
   "cell_type": "markdown",
   "metadata": {},
   "source": [
    "#### Step - 2: calculate the test statistics\n",
    "![image](https://miro.medium.com/max/287/1*b7iZyQyP8SJ-W51x_L5ekg.png)\n"
   ]
  },
  {
   "cell_type": "code",
   "execution_count": 9,
   "metadata": {},
   "outputs": [],
   "source": [
    "import math\n",
    "\n",
    "n = 400           # Sample Size\n",
    "x_bar = 48574     # Sample Mean\n",
    "mu = 48432        # Population Mean\n",
    "sigma = 2000      # Standard Deviation of Population"
   ]
  },
  {
   "cell_type": "code",
   "execution_count": 10,
   "metadata": {},
   "outputs": [
    {
     "name": "stdout",
     "output_type": "stream",
     "text": [
      "Z Test : 1.42\n"
     ]
    }
   ],
   "source": [
    "Z_Test = (x_bar - mu) / (sigma /math.sqrt(n))\n",
    "print(\"Z Test :\",round(Z_Test, 2))"
   ]
  },
  {
   "cell_type": "markdown",
   "metadata": {},
   "source": [
    "### Step – 3 Set Rejection region\n",
    "- Set up the alpha (level of significance). It is not given in the problem.\n",
    "- Considering alpha as `0.05`. \n",
    "- Tabulated z for 0.05 alpha (l.o.s) is `1.960`\n",
    "- we have\n",
    "   - **`Z(cal) = 1.42`**\n",
    "   - **`Z(tab (0.05)) = 1.960`**\n",
    "\n"
   ]
  },
  {
   "cell_type": "markdown",
   "metadata": {},
   "source": [
    "### Step – 4 Conclude\n",
    "- As per z test results\n",
    "    - **`Z(tab (0.01)) > Z(cal)`**\n",
    "- `z = 1.42` **(This test statistic lies in the Acceptance Region for H0.)**\n",
    "    - ***`Accept H0`*** \n",
    "- Based on this one sample of size 400 with a one-tailed test on the left andα = 0.05, the Economic Research Department of a major bank the Department manager maintains that the average annual family income on Metropolis is 48432. the validity of the report is due to random sample."
   ]
  },
  {
   "cell_type": "markdown",
   "metadata": {},
   "source": [
    "# ***Problem Statement 6:***\n",
    "Suppose that in past years the average price per square foot for warehouses in the United States has been 32.28. A national real estate investor wants to determine whether that figure has changed now. The investor hires a researcher who randomly samples 19 warehouses that are for sale across the United States and finds that the mean price per square foot is 31.67, with a standard deviation of 1.29. assume that the prices of warehouse footage are normally distributed in population. If the researcher uses a 5% level of significance, what statistical conclusion can be reached? What are the hypotheses?"
   ]
  },
  {
   "cell_type": "markdown",
   "metadata": {},
   "source": [
    "#### **`Solution`**:-"
   ]
  },
  {
   "cell_type": "markdown",
   "metadata": {},
   "source": [
    "### Step 1:\n",
    "- Plug the information into the formula and solve:"
   ]
  },
  {
   "cell_type": "code",
   "execution_count": 28,
   "metadata": {},
   "outputs": [],
   "source": [
    "n = 19\n",
    "x_bar = 31.67 \n",
    "mu = 32.28\n",
    "std = 1.29"
   ]
  },
  {
   "cell_type": "markdown",
   "metadata": {},
   "source": [
    "![image](https://encrypted-tbn0.gstatic.com/images?q=tbn:ANd9GcR3sKe0BHB81Qg4aushQhQ93u6V-uD2w-CY0g&usqp=CAU)"
   ]
  },
  {
   "cell_type": "markdown",
   "metadata": {},
   "source": [
    "**where** ,\n",
    "- `x̅` is the sample mean, \n",
    "- `μ` is the population mean, \n",
    "- `s` is the standard deviation of the sample, \n",
    "- `n` is the sample size. "
   ]
  },
  {
   "cell_type": "code",
   "execution_count": 36,
   "metadata": {},
   "outputs": [
    {
     "name": "stdout",
     "output_type": "stream",
     "text": [
      "Calculated t:  -2.06\n"
     ]
    }
   ],
   "source": [
    "t_score = (x_bar - mu)/ (std/n**0.5) \n",
    "print(\"Calculated t: \", round(t_score, 2))"
   ]
  },
  {
   "cell_type": "markdown",
   "metadata": {},
   "source": [
    "### Step 2: \n",
    "- Subtract 1 from the sample size to get the degrees of freedom:\n",
    "   - `df = n – 1 = 18` "
   ]
  },
  {
   "cell_type": "code",
   "execution_count": 32,
   "metadata": {},
   "outputs": [],
   "source": [
    "df = n - 1\n",
    "alpha = 0.05"
   ]
  },
  {
   "cell_type": "markdown",
   "metadata": {},
   "source": [
    "### Step 3: Set Rejection region\n",
    "- Find the p-value in the t-table, using the degrees of freedom in\n",
    "- Set up the alpha (level of significance). It is given in the problem.\n",
    "- Considering alpha as `0.05`. "
   ]
  },
  {
   "cell_type": "code",
   "execution_count": 38,
   "metadata": {},
   "outputs": [
    {
     "name": "stdout",
     "output_type": "stream",
     "text": [
      "Critical Region:  ( -2.1  ,  2.101 )\n"
     ]
    }
   ],
   "source": [
    "import scipy.stats as stats\n",
    "\n",
    "upper = stats.t.ppf(1-(alpha/2),df=18)\n",
    "lower = stats.t.ppf((alpha/2),df=18)\n",
    "print(\"Critical Region: \", \"(\", round(lower, 2),\" , \", round(upper, 3), \")\")"
   ]
  },
  {
   "cell_type": "markdown",
   "metadata": {},
   "source": [
    "\n",
    "- Tabulated t for 0.5 alpha (l.o.s) is -0.686\n",
    "- we have\n",
    "   - **`t(cal) = -2.06`**\n",
    "   - **`Critical Region:  ( -2.101  ,  2.101 )`**\n"
   ]
  },
  {
   "cell_type": "markdown",
   "metadata": {},
   "source": [
    "### Step – 4 Conclude\n",
    "- As per t test results\n",
    "   - `t = -2.06` **(This test statistic lies in the Critical Region)**\n",
    "    - Hence we ***`Accept H0`*** \n",
    "   "
   ]
  },
  {
   "cell_type": "markdown",
   "metadata": {},
   "source": [
    "# ***Problem Statement 7:***\n",
    "Fill in the blank spaces in the table and draw your conclusions from it.\n",
    "![image.png](image1.png)"
   ]
  },
  {
   "cell_type": "markdown",
   "metadata": {},
   "source": [
    "#### **`Solution`**:-"
   ]
  },
  {
   "cell_type": "markdown",
   "metadata": {},
   "source": [
    "#### **1) Acceptance region**:  `48.5 < x̅ < 51.5`"
   ]
  },
  {
   "cell_type": "markdown",
   "metadata": {},
   "source": [
    "- **(a)** Calculate Beta at `mu_1 = 52`"
   ]
  },
  {
   "cell_type": "code",
   "execution_count": 109,
   "metadata": {},
   "outputs": [
    {
     "name": "stdout",
     "output_type": "stream",
     "text": [
      "p11:  -4.427\n",
      "p12 : -0.632\n"
     ]
    }
   ],
   "source": [
    "import math \n",
    "\n",
    "n_1 = 10\n",
    "std = 2.5\n",
    "mu_1 = 52\n",
    "\n",
    "p11 = (48.5 - mu_1) / (std / math.sqrt(n_1))\n",
    "print(\"p11: \",round(p11, 3))\n",
    "p12 = (51.5 - mu_1) / (std / math.sqrt(n_1))\n",
    "print(\"p12 :\",round(p12, 3))"
   ]
  },
  {
   "cell_type": "code",
   "execution_count": 110,
   "metadata": {},
   "outputs": [
    {
     "name": "stdout",
     "output_type": "stream",
     "text": [
      "Beta at mu_1 = 52 is : 0.2643\n"
     ]
    }
   ],
   "source": [
    "# As p12 > p11, so our z score lies in between these two p12 < z < p11.\n",
    "# Find probability at these z score\n",
    "\n",
    "P11 = 0\n",
    "P12 = 0.2643\n",
    "# now Beta = p12 - p11\n",
    "Beta11 = P12 - P11\n",
    "print(f\"Beta at mu_1 = 52 is : {Beta11}\")"
   ]
  },
  {
   "cell_type": "markdown",
   "metadata": {},
   "source": [
    "- **(b)** Calculate Beta at `mu_2 = 50.5`"
   ]
  },
  {
   "cell_type": "code",
   "execution_count": 113,
   "metadata": {},
   "outputs": [
    {
     "name": "stdout",
     "output_type": "stream",
     "text": [
      "p13 : -2.53\n",
      "p14 : 1.265\n"
     ]
    }
   ],
   "source": [
    "# Calculate Beta at Mu2 = 50.5\n",
    "n_1 = 10\n",
    "std =2.5\n",
    "mu_2 =50.5\n",
    "\n",
    "p13 = (48.5 - mu_2) / (std / math.sqrt(n_1))\n",
    "print(\"p13 :\",round(p13, 3))\n",
    "p14 = (51.5 - mu_2)/(std / math.sqrt(n_1))\n",
    "print(\"p14 :\",round(p14, 3))"
   ]
  },
  {
   "cell_type": "code",
   "execution_count": 114,
   "metadata": {},
   "outputs": [
    {
     "name": "stdout",
     "output_type": "stream",
     "text": [
      "Beta at mu_2 = 50.5 is : 0.1095\n"
     ]
    }
   ],
   "source": [
    "# so our z score lies in between these two p13 < z < p14.\n",
    "# Find probability at these z score\n",
    "\n",
    "P13 = 0.0057\n",
    "P14 = 0.8962\n",
    "# now Beta = p13 +(1 - p14)\n",
    "Beta12 = P13 +(1- P14)\n",
    "print(f\"Beta at mu_2 = 50.5 is : {Beta12}\")"
   ]
  },
  {
   "cell_type": "markdown",
   "metadata": {},
   "source": [
    "#### **2) Acceptance region**:  `48 < x < 51`"
   ]
  },
  {
   "cell_type": "markdown",
   "metadata": {},
   "source": [
    "- **(a)** Calculate Beta at `mu_1 = 52`"
   ]
  },
  {
   "cell_type": "code",
   "execution_count": 117,
   "metadata": {},
   "outputs": [
    {
     "name": "stdout",
     "output_type": "stream",
     "text": [
      "p21 : -5.06\n",
      "p22 : -1.265\n"
     ]
    }
   ],
   "source": [
    "n_2 = 10\n",
    "std = 2.5\n",
    "mu_1 = 52\n",
    "\n",
    "p21 = (48.0 - mu_1) / (std / math.sqrt(n_2))\n",
    "print(\"p21 :\",round(p21, 3))\n",
    "p22 = (51.0 - mu_1)/(std / math.sqrt(n_2))\n",
    "print(\"p22 :\",round(p22, 3))"
   ]
  },
  {
   "cell_type": "code",
   "execution_count": 118,
   "metadata": {},
   "outputs": [
    {
     "name": "stdout",
     "output_type": "stream",
     "text": [
      "Beta at mu_2 = 52 is : 0.1038\n"
     ]
    }
   ],
   "source": [
    "# As p22 > p21, so our z score lies in between these two p22 < z < p21.\n",
    "# Find probability at these z score\n",
    "P21 = 0\n",
    "P22 = 0.1038\n",
    "# now Beta = p22 - p21\n",
    "Beta21 = P22 - P21\n",
    "print(f\"Beta at mu_2 = 52 is : {Beta21}\")"
   ]
  },
  {
   "cell_type": "markdown",
   "metadata": {},
   "source": [
    "- **(b)** Calculate Beta at `mu_2 = 50.5`"
   ]
  },
  {
   "cell_type": "code",
   "execution_count": 119,
   "metadata": {},
   "outputs": [
    {
     "name": "stdout",
     "output_type": "stream",
     "text": [
      "p23 : -3.162\n",
      "p24 : 0.632\n"
     ]
    }
   ],
   "source": [
    "n_2 = 10\n",
    "std = 2.5\n",
    "mu_1 = 50.5\n",
    "\n",
    "p23 = (48 - mu_1) / (std / math.sqrt(n_2))\n",
    "print(\"p23 :\",round(p23, 3))\n",
    "p24 = (51.0 - mu_1)/(std / math.sqrt(n_2))\n",
    "print(\"p24 :\",round(p24, 3))"
   ]
  },
  {
   "cell_type": "code",
   "execution_count": 120,
   "metadata": {},
   "outputs": [
    {
     "name": "stdout",
     "output_type": "stream",
     "text": [
      "Beta at mu_2 = 50.5 is : 0.2651\n"
     ]
    }
   ],
   "source": [
    "# so our z score lies in between these two p13 < z < p14.\n",
    "# Find probability at these z score\n",
    "P23 = 0.0008\n",
    "P24 = 0.7357\n",
    "# now Beta = p13 +(1 - p14)\n",
    "Beta22 = P23 +(1- P24)\n",
    "print(f\"Beta at mu_2 = 50.5 is : {Beta22}\")"
   ]
  },
  {
   "cell_type": "markdown",
   "metadata": {},
   "source": [
    "#### **3) Acceptance region**:  `48.81 < x < 51.9`"
   ]
  },
  {
   "cell_type": "markdown",
   "metadata": {},
   "source": [
    "- **(a)** Calculate Beta at `mu_1 = 52`"
   ]
  },
  {
   "cell_type": "code",
   "execution_count": 121,
   "metadata": {},
   "outputs": [
    {
     "name": "stdout",
     "output_type": "stream",
     "text": [
      "p31 : -6.4\n",
      "p32 : -1.6\n"
     ]
    }
   ],
   "source": [
    "n_3 = 16\n",
    "std = 2.5\n",
    "mu_1 = 52\n",
    "\n",
    "p31 = (48.0 - mu_1) / (std / math.sqrt(n_3))\n",
    "print(\"p31 :\",round(p31, 3))\n",
    "p32 = (51.0 - mu_1)/(std / math.sqrt(n_3))\n",
    "print(\"p32 :\",round(p32, 3))"
   ]
  },
  {
   "cell_type": "code",
   "execution_count": 122,
   "metadata": {},
   "outputs": [
    {
     "name": "stdout",
     "output_type": "stream",
     "text": [
      "Beta at mu_2 = 52 is : 0.4364\n"
     ]
    }
   ],
   "source": [
    "# so our z score lies in between these two p31 < z < p32.\n",
    "# Find probability at these z score\n",
    "P31 = 0.4364\n",
    "P32 = 0\n",
    "# now Beta = p31 - p32\n",
    "Beta31 = P31 - P32\n",
    "print(f\"Beta at mu_2 = 52 is : {Beta31}\")"
   ]
  },
  {
   "cell_type": "markdown",
   "metadata": {},
   "source": [
    "- **(b)** Calculate Beta at `mu_2 = 50.5`"
   ]
  },
  {
   "cell_type": "code",
   "execution_count": 123,
   "metadata": {},
   "outputs": [
    {
     "name": "stdout",
     "output_type": "stream",
     "text": [
      "p33 : -4.0\n",
      "p34 : 0.8\n"
     ]
    }
   ],
   "source": [
    "n_3 = 16\n",
    "std = 2.5\n",
    "mu_1 = 50.5\n",
    "\n",
    "p33 = (48.0 - mu_1) / (std / math.sqrt(n_3))\n",
    "print(\"p33 :\",round(p33, 3))\n",
    "p34 = (51.0 - mu_1)/(std / math.sqrt(n_3))\n",
    "print(\"p34 :\",round(p34, 3))"
   ]
  },
  {
   "cell_type": "code",
   "execution_count": 124,
   "metadata": {},
   "outputs": [
    {
     "name": "stdout",
     "output_type": "stream",
     "text": [
      "Beta at mu_2 = 50.5 is : 0.015700000000000047\n"
     ]
    }
   ],
   "source": [
    "# so our z score lies in between these two p33 < z < 1- p34.\n",
    "# Find probability at these z score\n",
    "P33 = 0.0032\n",
    "P34 = 0.9875\n",
    "# now Beta = P33 + 1- P34\n",
    "Beta32 = P33 +1 - P34\n",
    "print(f\"Beta at mu_2 = 50.5 is : {Beta32}\")"
   ]
  },
  {
   "cell_type": "markdown",
   "metadata": {},
   "source": [
    "#### **4) Acceptance region**:  `48.42 <x < 51.58`"
   ]
  },
  {
   "cell_type": "markdown",
   "metadata": {},
   "source": [
    "- **(a)** Calculate Beta at `mu_1 = 52`"
   ]
  },
  {
   "cell_type": "code",
   "execution_count": 125,
   "metadata": {},
   "outputs": [
    {
     "name": "stdout",
     "output_type": "stream",
     "text": [
      "p41 : -6.4\n",
      "p42 : -1.6\n"
     ]
    }
   ],
   "source": [
    "n_4 = 16\n",
    "std = 2.5\n",
    "mu_1 = 52\n",
    "\n",
    "p41 = (48.0 - mu_1) / (std / math.sqrt(n_4))\n",
    "print(\"p41 :\",round(p41, 3))\n",
    "p42 = (51.0 - mu_1)/(std / math.sqrt(n_4))\n",
    "print(\"p42 :\",round(p42, 3))"
   ]
  },
  {
   "cell_type": "code",
   "execution_count": 126,
   "metadata": {},
   "outputs": [
    {
     "name": "stdout",
     "output_type": "stream",
     "text": [
      "Beta at mu_2 = 52 is : 0.2514\n"
     ]
    }
   ],
   "source": [
    "# As P42> P41, so our z score lies in between these two p42 < z < p41.\n",
    "# Find probability at these z score\n",
    "P41 = 0.0\n",
    "P42 = 0.2514\n",
    "# now Beta = p31 - p32\n",
    "Beta41 = P42 - P41\n",
    "print(f\"Beta at mu_2 = 52 is : {Beta41}\")"
   ]
  },
  {
   "cell_type": "markdown",
   "metadata": {},
   "source": [
    "- **(b)** Calculate Beta at `mu_2 = 50.5`"
   ]
  },
  {
   "cell_type": "code",
   "execution_count": 127,
   "metadata": {},
   "outputs": [
    {
     "name": "stdout",
     "output_type": "stream",
     "text": [
      "p43 : -6.4\n",
      "p44 : -1.6\n"
     ]
    }
   ],
   "source": [
    "n_4 = 16\n",
    "std = 2.5\n",
    "mu_1 = 52\n",
    "\n",
    "p43 = (48.0 - mu_1) / (std / math.sqrt(n_4))\n",
    "print(\"p43 :\",round(p43, 3))\n",
    "p44 = (51.0 - mu_1)/(std / math.sqrt(n_4))\n",
    "print(\"p44 :\",round(p44, 3))"
   ]
  },
  {
   "cell_type": "code",
   "execution_count": 128,
   "metadata": {},
   "outputs": [
    {
     "name": "stdout",
     "output_type": "stream",
     "text": [
      "Beta at mu2 = 50.5 is : 0.015999999999999955\n"
     ]
    }
   ],
   "source": [
    "# so our z score lies in between these two p33 < z < 1- p34.\n",
    "# Find probability at these z score\n",
    "P43 = 0.0035\n",
    "P44 = 0.9875\n",
    "# now Beta = P43 + 1- P44\n",
    "Beta42 = P43 +(1 - P44)\n",
    "print(f\"Beta at mu2 = 50.5 is : {Beta42}\")"
   ]
  },
  {
   "cell_type": "markdown",
   "metadata": {},
   "source": [
    "# ***Problem Statement 8:***\n",
    "Find the t-score for a sample size of 16 taken from a population with mean 10 when the sample mean is 12 and the sample standard deviation is 1.5."
   ]
  },
  {
   "cell_type": "markdown",
   "metadata": {},
   "source": [
    "#### **`Solution`**:-"
   ]
  },
  {
   "cell_type": "markdown",
   "metadata": {},
   "source": [
    "### t-score :-\n",
    "- Plug the information into the formula and solve:"
   ]
  },
  {
   "cell_type": "code",
   "execution_count": 2,
   "metadata": {},
   "outputs": [],
   "source": [
    "n = 16\n",
    "x_bar = 12\n",
    "mu = 10\n",
    "std = 1.5"
   ]
  },
  {
   "cell_type": "markdown",
   "metadata": {},
   "source": [
    "![image](https://encrypted-tbn0.gstatic.com/images?q=tbn:ANd9GcR3sKe0BHB81Qg4aushQhQ93u6V-uD2w-CY0g&usqp=CAU)"
   ]
  },
  {
   "cell_type": "markdown",
   "metadata": {},
   "source": [
    "**where** ,\n",
    "- `x̅` is the sample mean, \n",
    "- `μ` is the population mean, \n",
    "- `s` is the standard deviation of the sample, \n",
    "- `n` is the sample size. "
   ]
  },
  {
   "cell_type": "code",
   "execution_count": 3,
   "metadata": {},
   "outputs": [
    {
     "name": "stdout",
     "output_type": "stream",
     "text": [
      "t-score:  5.33\n"
     ]
    }
   ],
   "source": [
    "t_score = (x_bar - mu)/ (std/n**0.5) \n",
    "print(\"t-score: \", round(t_score, 2))"
   ]
  },
  {
   "cell_type": "markdown",
   "metadata": {},
   "source": [
    "# ***Problem Statement 9:***\n",
    "Find the t-score below which we can expect 99% of sample means will fall if samples of size 16 are taken from a normally distributed population."
   ]
  },
  {
   "cell_type": "markdown",
   "metadata": {},
   "source": [
    "#### **`Solution`**:-"
   ]
  },
  {
   "cell_type": "markdown",
   "metadata": {},
   "source": [
    "### t-score :-\n",
    "- Plug the information into the formula and solve:"
   ]
  },
  {
   "cell_type": "code",
   "execution_count": 4,
   "metadata": {},
   "outputs": [],
   "source": [
    "n = 16  #sample size"
   ]
  },
  {
   "cell_type": "code",
   "execution_count": 5,
   "metadata": {},
   "outputs": [],
   "source": [
    "alpha = (1 - 0.99) / 2"
   ]
  },
  {
   "cell_type": "code",
   "execution_count": 7,
   "metadata": {},
   "outputs": [
    {
     "name": "stdout",
     "output_type": "stream",
     "text": [
      "t_score :-  2.95\n"
     ]
    }
   ],
   "source": [
    "import scipy.stats as stats\n",
    "\n",
    "t_score = stats.t.ppf(1-alpha,df=15)\n",
    "print(\"t_score :- \",round(t_score, 2))"
   ]
  },
  {
   "cell_type": "markdown",
   "metadata": {},
   "source": [
    "# ***Problem Statement 10:***\n",
    "If a random sample of size 25 drawn from a normal population gives a mean of 60 and a standard deviation of 4, find the range of t-scores where we can expect to find the middle 95% of all sample means. Compute the probability that (−t0.05 <t<t0.10)."
   ]
  },
  {
   "cell_type": "markdown",
   "metadata": {},
   "source": [
    "#### **`Solution`**:-"
   ]
  },
  {
   "cell_type": "code",
   "execution_count": 9,
   "metadata": {},
   "outputs": [],
   "source": [
    "n = 25\n",
    "std = 4\n",
    "mean = 60\n",
    "alpha = (1 - 0.95) / 2"
   ]
  },
  {
   "cell_type": "markdown",
   "metadata": {},
   "source": [
    "- The Range of **`t-scores`**"
   ]
  },
  {
   "cell_type": "code",
   "execution_count": 17,
   "metadata": {},
   "outputs": [
    {
     "name": "stdout",
     "output_type": "stream",
     "text": [
      "Range is :-  ( 61.65  ,  58.35 )\n"
     ]
    }
   ],
   "source": [
    "t_score = stats.t.ppf(1 - alpha, df = 24)\n",
    "upper_range = mean + t_score * (std / (n**0.5))\n",
    "lower_range = mean - t_score * (std / (n**0.5))\n",
    "print(\"Range of t-scores :- \", \"(\", round(upper_range, 2), \" , \",round(lower_range, 2),\")\")"
   ]
  },
  {
   "cell_type": "markdown",
   "metadata": {},
   "source": [
    "- Probability that (−𝑡0.05 < 𝑡 <𝑡0.10)"
   ]
  },
  {
   "cell_type": "code",
   "execution_count": 20,
   "metadata": {},
   "outputs": [
    {
     "name": "stdout",
     "output_type": "stream",
     "text": [
      "probability that (−t0.05 < t < t0.10) is 0.06\n"
     ]
    }
   ],
   "source": [
    "p = stats.t.cdf(0.1, df = 24) - stats.t.cdf(-0.05, df = 24)\n",
    "print(f\"probability that (−t0.05 < t < t0.10) is {round(p, 2)}\")"
   ]
  },
  {
   "cell_type": "markdown",
   "metadata": {},
   "source": [
    "# ***Problem Statement 11:***\n",
    "Two-tailed test for difference between two population means\n",
    "Is there evidence to conclude that the number of people travelling from Bangalore to\n",
    "Chennai is different from the number of people travelling from Bangalore to Hosur in\n",
    "a week, given the following:\n",
    "- Population 1: Bangalore to Chennai n1 = 1200\n",
    "   - x1 = 452\n",
    "   - s1 = 212\n",
    "- Population 2: Bangalore to Hosur n2 = 800\n",
    "   - x2 = 523\n",
    "   - s2 = 185"
   ]
  },
  {
   "cell_type": "markdown",
   "metadata": {},
   "source": [
    "#### **`Solution`**:-"
   ]
  },
  {
   "cell_type": "markdown",
   "metadata": {},
   "source": [
    "### Step 1: \n",
    "- Set up hypotheses and determine level of significance\n",
    "  - **To Test:** \n",
    "    - H0: `μ1 = μ2`\n",
    "    - H1: `μ1 ≠ μ2`       \n",
    "- at α=0.05"
   ]
  },
  {
   "cell_type": "markdown",
   "metadata": {},
   "source": [
    "- Plug the information into the formula and solve:"
   ]
  },
  {
   "cell_type": "code",
   "execution_count": 23,
   "metadata": {},
   "outputs": [],
   "source": [
    "n_1 = 1200       # no. of sample from popul 1 \n",
    "n_2 = 800        # no. of sample from popul 1\n",
    "x_bar_1 = 452    # mean of sample 1\n",
    "x_bar_2 = 523    # mean of sample 2\n",
    "std_1 = 212      # standard deviation of popul 1\n",
    "std_2 = 185      # standard deviation of popul 2"
   ]
  },
  {
   "cell_type": "markdown",
   "metadata": {},
   "source": [
    "### Step 2: \n",
    "- Select the appropriate test statistic.  \n",
    "- Because both samples are large (> 30)\n",
    "- we can use the Z test statistic "
   ]
  },
  {
   "cell_type": "markdown",
   "metadata": {},
   "source": [
    "![image](data:image/png;base64,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)"
   ]
  },
  {
   "cell_type": "markdown",
   "metadata": {},
   "source": [
    "- Where, \n",
    "    - Numerator is SE (Standard Error)  \n",
    "    - x_bar_1 = mean of sample 1\n",
    "    - x_bar_2 = mean of sample 2"
   ]
  },
  {
   "cell_type": "markdown",
   "metadata": {},
   "source": [
    "![image](https://getcalc.com/formula/statistics/standard-error-two-sample-means-difference.png)"
   ]
  },
  {
   "cell_type": "markdown",
   "metadata": {},
   "source": [
    "- First we calculate **Standard Error**"
   ]
  },
  {
   "cell_type": "code",
   "execution_count": 29,
   "metadata": {},
   "outputs": [
    {
     "name": "stdout",
     "output_type": "stream",
     "text": [
      "Standard Error:-  8.957\n"
     ]
    }
   ],
   "source": [
    "std_1_sq = std_1**2\n",
    "std_2_sq = std_2**2\n",
    "\n",
    "SE = ((std_1_sq / n_1) + (std_2_sq / n_2))**0.5\n",
    "print(\"Standard Error:- \", round(SE, 3))"
   ]
  },
  {
   "cell_type": "markdown",
   "metadata": {},
   "source": [
    "- **Z-score** "
   ]
  },
  {
   "cell_type": "code",
   "execution_count": 30,
   "metadata": {},
   "outputs": [
    {
     "name": "stdout",
     "output_type": "stream",
     "text": [
      "Z_Score : -7.93\n"
     ]
    }
   ],
   "source": [
    "z_score = (x_bar_1 - x_bar_2) / SE\n",
    "print(\"Z_Score :\", round(z_score, 2))"
   ]
  },
  {
   "cell_type": "markdown",
   "metadata": {},
   "source": [
    "### Step – 3 Set Rejection region\n",
    "- Set up the alpha (level of significance). It is not given in the problem.\n",
    "- Considering alpha as `0.05`."
   ]
  },
  {
   "cell_type": "code",
   "execution_count": 33,
   "metadata": {},
   "outputs": [
    {
     "name": "stdout",
     "output_type": "stream",
     "text": [
      "Critical region:  ( -1.96  ,  1.96 )\n"
     ]
    }
   ],
   "source": [
    "from scipy.stats import norm\n",
    "\n",
    "alpha = 0.05\n",
    "right_region = -norm.ppf(alpha / 2)\n",
    "left_region =  norm.ppf(alpha / 2)\n",
    "\n",
    "print(\"Critical region: \",\"(\",round(left_region, 3), \" , \", round(right_region, 3),\")\")"
   ]
  },
  {
   "cell_type": "markdown",
   "metadata": {},
   "source": [
    " \n",
    "- Tabulated z for 0.05 alpha (l.o.s) is `1.96`\n",
    "- we have\n",
    "   - **`Z(cal) = -7.93`**\n",
    "   - **`Critical Region:  ( -1.96 , 1.96 )`**\n"
   ]
  },
  {
   "cell_type": "markdown",
   "metadata": {},
   "source": [
    "### Step – 4 Conclude\n",
    "- As per t test results\n",
    "   - `z = -7.93` **(This test statistic does not lies in the Critical Region)**\n",
    "    - Hence we ***`Reject H0`*** at 5% l.o.s\n",
    "- So,number of people travelling from Bangalore to Chennai is different from the number of people travelling from Bangalore to Hosur in a week.  "
   ]
  },
  {
   "cell_type": "markdown",
   "metadata": {},
   "source": [
    "# ***Problem Statement 12:***\n",
    "Is there evidence to conclude that the number of people preferring Duracell battery is\n",
    "different from the number of people preferring Energizer battery, given the following:\n",
    "- Population 1: Duracell\n",
    "   - n1 = 100\n",
    "   - x1 = 308\n",
    "   - s1 = 84\n",
    "- Population 2: Energizer\n",
    "   - n2 = 100\n",
    "   - x2 = 254\n",
    "   - s2 = 67\n",
    "\n",
    "\n",
    "\n",
    "\n",
    "\n",
    "\n",
    "\n"
   ]
  },
  {
   "cell_type": "markdown",
   "metadata": {},
   "source": [
    "#### **`Solution`**:-"
   ]
  },
  {
   "cell_type": "markdown",
   "metadata": {},
   "source": [
    "### Step 1: \n",
    "- Set up hypotheses and determine level of significance\n",
    "  - **To Test:** \n",
    "    - **H0:** `No. of people preferring Duracell battery is not different from the number of people preferring Energizer battery`\n",
    "    - V/S\n",
    "    - **H1:** `No. of people preferring Duracell battery is different from the number of people preferring Energizer battery`       \n",
    "- at α=0.05"
   ]
  },
  {
   "cell_type": "markdown",
   "metadata": {},
   "source": [
    "- Plug the information into the formula and solve:"
   ]
  },
  {
   "cell_type": "code",
   "execution_count": 34,
   "metadata": {},
   "outputs": [],
   "source": [
    "n_1 = 100        # no. of sample from popul 1 \n",
    "n_2 = 100        # no. of sample from popul 1\n",
    "x_bar_1 = 308    # mean of sample 1\n",
    "x_bar_2 = 254    # mean of sample 2\n",
    "std_1 = 84       # standard deviation of popul 1\n",
    "std_2 = 67       # standard deviation of popul 2"
   ]
  },
  {
   "cell_type": "markdown",
   "metadata": {},
   "source": [
    "### Step 2: \n",
    "- Select the appropriate test statistic.  \n",
    "- Because both samples are large (> 30)\n",
    "- we can use the Z test statistic "
   ]
  },
  {
   "cell_type": "markdown",
   "metadata": {},
   "source": [
    "![image](data:image/png;base64,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)"
   ]
  },
  {
   "cell_type": "markdown",
   "metadata": {},
   "source": [
    "- Where, \n",
    "    - Numerator is SE (Standard Error)  \n",
    "    - x_bar_1 = mean of sample 1\n",
    "    - x_bar_2 = mean of sample 2"
   ]
  },
  {
   "cell_type": "markdown",
   "metadata": {},
   "source": [
    "![image](https://getcalc.com/formula/statistics/standard-error-two-sample-means-difference.png)"
   ]
  },
  {
   "cell_type": "markdown",
   "metadata": {},
   "source": [
    "- First we calculate **Standard Error**"
   ]
  },
  {
   "cell_type": "code",
   "execution_count": 35,
   "metadata": {},
   "outputs": [
    {
     "name": "stdout",
     "output_type": "stream",
     "text": [
      "Standard Error:-  10.745\n"
     ]
    }
   ],
   "source": [
    "std_1_sq = std_1**2\n",
    "std_2_sq = std_2**2\n",
    "\n",
    "SE = ((std_1_sq / n_1) + (std_2_sq / n_2))**0.5\n",
    "print(\"Standard Error:- \", round(SE, 3))"
   ]
  },
  {
   "cell_type": "markdown",
   "metadata": {},
   "source": [
    "- **Z-score** "
   ]
  },
  {
   "cell_type": "code",
   "execution_count": 36,
   "metadata": {},
   "outputs": [
    {
     "name": "stdout",
     "output_type": "stream",
     "text": [
      "Z_Score : 5.03\n"
     ]
    }
   ],
   "source": [
    "z_score = (x_bar_1 - x_bar_2) / SE\n",
    "print(\"Z_Score :\", round(z_score, 2))"
   ]
  },
  {
   "cell_type": "markdown",
   "metadata": {},
   "source": [
    "### Step – 3 Set Rejection region\n",
    "- Set up the alpha (level of significance). It is not given in the problem.\n",
    "- Considering alpha as `0.05`."
   ]
  },
  {
   "cell_type": "code",
   "execution_count": 37,
   "metadata": {},
   "outputs": [
    {
     "name": "stdout",
     "output_type": "stream",
     "text": [
      "Critical region:  ( -1.96  ,  1.96 )\n"
     ]
    }
   ],
   "source": [
    "from scipy.stats import norm\n",
    "\n",
    "alpha = 0.05\n",
    "right_region = -norm.ppf(alpha / 2)\n",
    "left_region =  norm.ppf(alpha / 2)\n",
    "\n",
    "print(\"Critical region: \",\"(\",round(left_region, 3), \" , \", round(right_region, 3),\")\")"
   ]
  },
  {
   "cell_type": "markdown",
   "metadata": {},
   "source": [
    " \n",
    "- Tabulated z for 0.05 alpha (l.o.s) is `1.96`\n",
    "- we have\n",
    "   - **`Z(cal) = 5.03`**\n",
    "   - **`Critical Region:  ( -1.96 , 1.96 )`**\n"
   ]
  },
  {
   "cell_type": "markdown",
   "metadata": {},
   "source": [
    "### Step – 4 Conclude\n",
    "- As per t test results\n",
    "   - `z = 5.03` **(This test statistic does not lies in the Critical Region)**\n",
    "    - Hence we ***`Reject H0`*** at 5% l.o.s\n",
    "- So, Number of people preferring Duracell battery is different from the number of people preferring Energizer battery.  "
   ]
  },
  {
   "cell_type": "markdown",
   "metadata": {},
   "source": [
    "# ***Problem Statement 13:***\n",
    "Pooled estimate of the population variance\n",
    "Does the data provide sufficient evidence to conclude that average percentage\n",
    "increase in the price of sugar differs when it is sold at two different prices?\n",
    "- Population 1: Price of sugar = Rs. 27.50 n1 = 14\n",
    "   - x1 = 0.317%\n",
    "   - s1 = 0.12%\n",
    "- Population 2: Price of sugar = Rs. 20.00 n2 = 9\n",
    "   - x2 = 0.21%\n",
    "   - s2 = 0.11%"
   ]
  },
  {
   "cell_type": "markdown",
   "metadata": {},
   "source": [
    "#### **`Solution`**:-"
   ]
  },
  {
   "cell_type": "markdown",
   "metadata": {},
   "source": [
    "### Step 1: \n",
    "- Set up hypotheses and determine level of significance\n",
    "  - **To Test:** \n",
    "    - **H0:** `Average percentage do not increase in the price of sugar differs when it is sold at two different prices`\n",
    "    - V/S\n",
    "    - **H1:** `Average percentage increase in the price of sugar differs when it is sold at two different prices`       \n",
    "- at α=0.05"
   ]
  },
  {
   "cell_type": "markdown",
   "metadata": {},
   "source": [
    "- Plug the information into the formula and solve:"
   ]
  },
  {
   "cell_type": "code",
   "execution_count": 38,
   "metadata": {},
   "outputs": [],
   "source": [
    "n_1 = 14           # no. of sample from popul 1 \n",
    "n_2 = 9            # no. of sample from popul 1\n",
    "x_bar_1 = 0.317    # mean of sample 1\n",
    "x_bar_2 = 0.21     # mean of sample 2\n",
    "std_1 = 0.12       # standard deviation of popul 1\n",
    "std_2 = 0.11       # standard deviation of popul 2"
   ]
  },
  {
   "cell_type": "markdown",
   "metadata": {},
   "source": [
    "![image](https://graziano-raulin.com/images/formula%20for%202%20sample%20t.png)"
   ]
  },
  {
   "cell_type": "markdown",
   "metadata": {},
   "source": [
    "- First we calculate **Standard Error**\n",
    "- which is numerator of t-score"
   ]
  },
  {
   "cell_type": "code",
   "execution_count": 83,
   "metadata": {},
   "outputs": [],
   "source": [
    "std_1_sq = std_1**2\n",
    "std_2_sq = std_2**2\n",
    "n = (n_1 + n_2 - 2)\n",
    "first_term = (((n_1 - 1) * std_1_sq) + ((n_2 - 1) * std_2_sq)) / n\n",
    "second_term = ((1 / n_1) + (1 / n_2))"
   ]
  },
  {
   "cell_type": "code",
   "execution_count": 84,
   "metadata": {},
   "outputs": [
    {
     "name": "stdout",
     "output_type": "stream",
     "text": [
      "Standard Error:-  0.05\n"
     ]
    }
   ],
   "source": [
    "SE = (first_term * second_term)**0.5\n",
    "print(\"Standard Error:- \", round(SE, 3))"
   ]
  },
  {
   "cell_type": "markdown",
   "metadata": {},
   "source": [
    "- **t-score** "
   ]
  },
  {
   "cell_type": "code",
   "execution_count": 85,
   "metadata": {},
   "outputs": [
    {
     "name": "stdout",
     "output_type": "stream",
     "text": [
      "t_Score : 2.154\n"
     ]
    }
   ],
   "source": [
    "t_score = (x_bar_1 - x_bar_2) / SE \n",
    "print(\"t_Score :\", round(t_score, 3))"
   ]
  },
  {
   "cell_type": "markdown",
   "metadata": {},
   "source": [
    "### Step – 3 Set Rejection region\n",
    "- Set up the alpha (level of significance). It is not given in the problem.\n",
    "- Considering alpha as `0.05`."
   ]
  },
  {
   "cell_type": "code",
   "execution_count": 91,
   "metadata": {},
   "outputs": [
    {
     "name": "stdout",
     "output_type": "stream",
     "text": [
      "Critical region:  ( -1.721  ,  1.721 )\n"
     ]
    }
   ],
   "source": [
    "from scipy.stats import norm\n",
    "\n",
    "alpha = 0.05\n",
    "right_region = stats.t.ppf(1 - 0.05, df = n)\n",
    "left_region =  -stats.t.ppf(1 - 0.05, df = n)\n",
    "\n",
    "print(\"Critical region: \",\"(\",round(left_region, 3), \" , \", round(right_region, 3),\")\")"
   ]
  },
  {
   "cell_type": "markdown",
   "metadata": {},
   "source": [
    " \n",
    "- Tabulated z for 0.05 alpha (l.o.s) is `1.721`\n",
    "- we have\n",
    "   - **`t(cal) = 2.154`**\n",
    "   - **`Critical Region:  ( -1.721  ,  1.721 )`**\n"
   ]
  },
  {
   "cell_type": "markdown",
   "metadata": {},
   "source": [
    "### Step – 4 Conclude\n",
    "- As per t test results\n",
    "   - `t = 2.154` **(This test statistic does not lies in the Critical Region)**\n",
    "    - Hence we ***`Reject H0`*** at 5% l.o.s\n",
    "- So, Average percentage increase in the price of sugar differs when it is sold at two different prices.  "
   ]
  },
  {
   "cell_type": "markdown",
   "metadata": {},
   "source": [
    "# ***Problem Statement 14:***\n",
    "The manufacturers of compact disk players want to test whether a small price\n",
    "reduction is enough to increase sales of their product. Is there evidence that the\n",
    "small price reduction is enough to increase sales of compact disk players?\n",
    "- Population 1: Before reduction\n",
    "   - n1 = 15\n",
    "   - x1 = Rs. 6598 s1 = Rs. 844\n",
    "- Population 2: After reduction n2 = 12\n",
    "   - x2 = RS. 6870\n",
    "   - s2 = Rs. 669\n"
   ]
  },
  {
   "cell_type": "markdown",
   "metadata": {},
   "source": [
    "#### **`Solution`**:-"
   ]
  },
  {
   "cell_type": "markdown",
   "metadata": {},
   "source": [
    "### Step 1: \n",
    "- Set up hypotheses and determine level of significance\n",
    "  - **To Test:** \n",
    "    - **H0:** `Average price remains same`\n",
    "    - V/S\n",
    "    - **H1:** `Average price does not remains same`       \n",
    "- at α=0.05"
   ]
  },
  {
   "cell_type": "markdown",
   "metadata": {},
   "source": [
    "- Plug the information into the formula and solve:"
   ]
  },
  {
   "cell_type": "code",
   "execution_count": 92,
   "metadata": {},
   "outputs": [],
   "source": [
    "n_1 = 15            # no. of sample from popul 1 \n",
    "n_2 = 12            # no. of sample from popul 1\n",
    "x_bar_1 = 6598      # mean of sample 1\n",
    "x_bar_2 = 6870      # mean of sample 2\n",
    "std_1 = 844         # standard deviation of popul 1\n",
    "std_2 = 669         # standard deviation of popul 2"
   ]
  },
  {
   "cell_type": "markdown",
   "metadata": {},
   "source": [
    "![image](https://graziano-raulin.com/images/formula%20for%202%20sample%20t.png)"
   ]
  },
  {
   "cell_type": "markdown",
   "metadata": {},
   "source": [
    "- First we calculate **Standard Error**\n",
    "- which is numerator of t-score"
   ]
  },
  {
   "cell_type": "code",
   "execution_count": 93,
   "metadata": {},
   "outputs": [],
   "source": [
    "std_1_sq = std_1**2\n",
    "std_2_sq = std_2**2\n",
    "n = (n_1 + n_2 - 2)\n",
    "first_term = (((n_1 - 1) * std_1_sq) + ((n_2 - 1) * std_2_sq)) / n\n",
    "second_term = ((1 / n_1) + (1 / n_2))"
   ]
  },
  {
   "cell_type": "code",
   "execution_count": 94,
   "metadata": {},
   "outputs": [
    {
     "name": "stdout",
     "output_type": "stream",
     "text": [
      "Standard Error:-  298.957\n"
     ]
    }
   ],
   "source": [
    "SE = (first_term * second_term)**0.5\n",
    "print(\"Standard Error:- \", round(SE, 3))"
   ]
  },
  {
   "cell_type": "markdown",
   "metadata": {},
   "source": [
    "- **t-score** "
   ]
  },
  {
   "cell_type": "code",
   "execution_count": 95,
   "metadata": {},
   "outputs": [
    {
     "name": "stdout",
     "output_type": "stream",
     "text": [
      "t_Score : -0.91\n"
     ]
    }
   ],
   "source": [
    "t_score = (x_bar_1 - x_bar_2) / SE \n",
    "print(\"t_Score :\", round(t_score, 3))"
   ]
  },
  {
   "cell_type": "markdown",
   "metadata": {},
   "source": [
    "### Step – 3 Set Rejection region\n",
    "- Set up the alpha (level of significance). It is not given in the problem.\n",
    "- Considering alpha as `0.05`."
   ]
  },
  {
   "cell_type": "code",
   "execution_count": 96,
   "metadata": {},
   "outputs": [
    {
     "name": "stdout",
     "output_type": "stream",
     "text": [
      "Critical region:  ( -1.708  ,  1.708 )\n"
     ]
    }
   ],
   "source": [
    "from scipy.stats import norm\n",
    "\n",
    "alpha = 0.05\n",
    "right_region = stats.t.ppf(1 - 0.05, df = n)\n",
    "left_region =  -stats.t.ppf(1 - 0.05, df = n)\n",
    "\n",
    "print(\"Critical region: \",\"(\",round(left_region, 3), \" , \", round(right_region, 3),\")\")"
   ]
  },
  {
   "cell_type": "markdown",
   "metadata": {},
   "source": [
    " \n",
    "- Tabulated t for 0.05 alpha (l.o.s) is `1.708`\n",
    "- we have\n",
    "   - **`t(cal) = -0.91`**\n",
    "   - **`Critical Region:  ( -1.708  ,  1.708 )`**\n"
   ]
  },
  {
   "cell_type": "markdown",
   "metadata": {},
   "source": [
    "### Step – 4 Conclude\n",
    "- As per t test results\n",
    "   - `t = -0.91` **(This test statistic lies in the Critical Region)**\n",
    "    - Hence we ***`Accept H0`*** at 5% l.o.s\n",
    "- So, Average price remains same.  "
   ]
  },
  {
   "cell_type": "markdown",
   "metadata": {},
   "source": [
    "# ***Problem Statement 15:***\n",
    "Comparisons of two population proportions when the hypothesized difference is zero\n",
    "Carry out a two-tailed test of the equality of banks’ share of the car loan market in\n",
    "1980 and 1995.\n",
    "- Population 1: 1980\n",
    "   - n1 = 1000\n",
    "   - x1 = 53\n",
    "   - p_cap_1 = 0.53\n",
    "- Population 2: 1985\n",
    "   - n2 = 100\n",
    "   - x2 = 43\n",
    "   - p_cap_2= 0.53\n"
   ]
  },
  {
   "cell_type": "markdown",
   "metadata": {},
   "source": [
    "#### **`Solution`**:-"
   ]
  },
  {
   "cell_type": "markdown",
   "metadata": {},
   "source": [
    "### Step 1: \n",
    "- Set up hypotheses and determine level of significance\n",
    "  - **To Test:** \n",
    "    - **H0:** `P1 = P2`\n",
    "    - V/S\n",
    "    - **H1:** `P1 ≠ P2`       \n",
    "- at α=0.05 "
   ]
  },
  {
   "cell_type": "markdown",
   "metadata": {},
   "source": [
    "- Plug the information into the formula and solve:"
   ]
  },
  {
   "cell_type": "code",
   "execution_count": 36,
   "metadata": {},
   "outputs": [],
   "source": [
    "n1 = 1000 \n",
    "n2 = 100 \n",
    "x1 = 53 \n",
    "x2 = 43 \n",
    "p_cap_1 = 0.53 \n",
    "p_cap_2 = 0.53"
   ]
  },
  {
   "cell_type": "markdown",
   "metadata": {},
   "source": [
    "- **Formulate an analysis plan** For this analysis, the significance level is 0.05. The test method is a two-proportion z-test."
   ]
  },
  {
   "cell_type": "markdown",
   "metadata": {},
   "source": [
    "### Step 2:  Pooled sample proportion. \n",
    "- Since the null hypothesis states that P1 = P2, we use a pooled sample proportion (p) to compute the standard error of the sampling distribution.\n",
    "- we combine the samples to create a pooled proportion. Here,  We use the pooled proportion as an estimate for both population proportions.\n",
    "   - `p_cap = (x1 + x2) / (n1 + n2)`\n",
    "\n",
    "  - **where**,\n",
    "     - x1 and x2 are the numbers of successes in the respective samples of sizes n1 and n2. \n",
    "     - n1 is the size of sample 1, \n",
    "     - n2 is the size of sample 2.\n",
    "     \n",
    "     "
   ]
  },
  {
   "cell_type": "code",
   "execution_count": 40,
   "metadata": {},
   "outputs": [],
   "source": [
    "p_cap = (x1 + x2) / (n1 + n2)"
   ]
  },
  {
   "cell_type": "markdown",
   "metadata": {},
   "source": [
    "### Step 3: Standard error. \n",
    "- Compute the standard error (SE) of the sampling distribution difference between two proportions.\n",
    "   - `SE = sqrt{ p_cap * ( 1 - p_cap ) * [ (1/n1) + (1/n2) ] }`\n",
    "\n",
    "   - **where**,\n",
    "     - p_cap is the pooled sample proportion, \n",
    "     - n1 is the size of sample 1,\n",
    "     - n2 is the size of sample 2."
   ]
  },
  {
   "cell_type": "code",
   "execution_count": 41,
   "metadata": {},
   "outputs": [
    {
     "name": "stdout",
     "output_type": "stream",
     "text": [
      "Standard Error:  0.03\n"
     ]
    }
   ],
   "source": [
    "SE = (p_cap * ( 1 - p_cap ) * ( (1 / n1) + (1 / n2) ))**0.5\n",
    "print(\"Standard Error: \",round(SE, 3))"
   ]
  },
  {
   "cell_type": "markdown",
   "metadata": {},
   "source": [
    "### Step 4 Test statistic. \n",
    "- The test statistic is a z-score (z) defined by the following equation.\n",
    "   - `z = (p_cap_1 - p_cap_2) - (p1 - p2) / SE`\n",
    "   - **where**, \n",
    "      - p_cap_1 is the proportion from sample 1, \n",
    "      - p_cap_2 is the proportion from sample 2, \n",
    "      - SE is the standard error of the sampling distribution.\n",
    "- Since p1 − p2 = 0 in the null hypothesis, the Z-test statistic simplifies to the following:\n",
    "    - `z = (p_cap_1 - p_cap_2) / SE` "
   ]
  },
  {
   "cell_type": "code",
   "execution_count": 42,
   "metadata": {},
   "outputs": [
    {
     "name": "stdout",
     "output_type": "stream",
     "text": [
      "z-score :  0.0\n"
     ]
    }
   ],
   "source": [
    "z = (p_cap_1 - p_cap_2) / SE\n",
    "print(\"z-score : \",round(z,5))"
   ]
  },
  {
   "cell_type": "markdown",
   "metadata": {},
   "source": [
    "### Step – 5 Set Rejection region\n",
    "- Set up the alpha (level of significance). It is not given in the problem.\n",
    "- Considering alpha as `0.05`."
   ]
  },
  {
   "cell_type": "code",
   "execution_count": 22,
   "metadata": {},
   "outputs": [
    {
     "name": "stdout",
     "output_type": "stream",
     "text": [
      "Critical region:  ( -1.645  ,  1.645 )\n"
     ]
    }
   ],
   "source": [
    "from scipy.stats import norm\n",
    "\n",
    "alpha = 0.05\n",
    "right_region = -norm.ppf(0.05)\n",
    "left_region =  norm.ppf(0.05)\n",
    "\n",
    "print(\"Critical region: \",\"(\",round(left_region, 3), \" , \", round(right_region, 3),\")\")"
   ]
  },
  {
   "cell_type": "markdown",
   "metadata": {},
   "source": [
    " \n",
    "- Tabulated z for 0.05 alpha (l.o.s) is `1.645`\n",
    "- we have\n",
    "   - **`z(cal) = 0.0`**\n",
    "   - **`Critical Region:  ( -1.645  ,  1.645 )`**\n"
   ]
  },
  {
   "cell_type": "markdown",
   "metadata": {},
   "source": [
    "### Step – 6 Conclude\n",
    "- As per z test results\n",
    "   - `z = 0.0` **(This test statistic lies in the Critical Region)**\n",
    "    - Hence we ***`Accept H0`*** at 5% l.o.s\n"
   ]
  },
  {
   "cell_type": "markdown",
   "metadata": {},
   "source": [
    "# ***Problem Statement 16:***\n",
    "Carry out a one-tailed test to determine whether the population proportion of\n",
    "traveler’s check buyers who buy at least $2500 in checks when sweepstakes prizes\n",
    "are offered as at least 10% higher than the proportion of such buyers when no\n",
    "sweepstakes are on.\n",
    "- Population 1: With sweepstakes\n",
    "   - n1 = 300\n",
    "   - x1 = 120\n",
    "   - p_cap_1 = 0.40\n",
    "- Population 2: No sweepstakes n2 = 700\n",
    "   - x2 = 140\n",
    "   - p_cap_2= 0.20"
   ]
  },
  {
   "cell_type": "markdown",
   "metadata": {},
   "source": [
    "#### **`Solution`**:-"
   ]
  },
  {
   "cell_type": "markdown",
   "metadata": {},
   "source": [
    "### Step 1: \n",
    "- Set up hypotheses and determine level of significance\n",
    "  - **To Test:** \n",
    "    - **H0:** `P1 = P2`\n",
    "    - V/S\n",
    "    - **H1:** `P1 ≠ P2`       \n",
    "- at α=0.05 "
   ]
  },
  {
   "cell_type": "code",
   "execution_count": 53,
   "metadata": {},
   "outputs": [],
   "source": [
    "n1 = 300 \n",
    "n2 = 700\n",
    "x1 = 120\n",
    "x2 = 140  \n",
    "p_cap_1 = 0.40\n",
    "p_cap_2 = 0.20"
   ]
  },
  {
   "cell_type": "markdown",
   "metadata": {},
   "source": [
    "- **Formulate an analysis plan** For this analysis, the significance level is 0.05. The test method is a two-proportion z-test."
   ]
  },
  {
   "cell_type": "markdown",
   "metadata": {},
   "source": [
    "### Step 2:  Pooled sample proportion. \n",
    "- Since the null hypothesis states that P1 = P2, we use a pooled sample proportion (p) to compute the standard error of the sampling distribution.\n",
    "- we combine the samples to create a pooled proportion. Here,  We use the pooled proportion as an estimate for both population proportions.\n",
    "   - `p_cap = (x1 + x2) / (n1 + n2)`\n",
    "\n",
    "  - **where**,\n",
    "     - x1 and x2 are the numbers of successes in the respective samples of sizes n1 and n2. \n",
    "     - n1 is the size of sample 1, \n",
    "     - n2 is the size of sample 2.\n",
    "     \n",
    "     "
   ]
  },
  {
   "cell_type": "code",
   "execution_count": 55,
   "metadata": {},
   "outputs": [],
   "source": [
    "p_cap = (x1 + x2) / (n1 + n2)"
   ]
  },
  {
   "cell_type": "markdown",
   "metadata": {},
   "source": [
    "### Step 3: Standard error. \n",
    "- Compute the standard error (SE) of the sampling distribution difference between two proportions.\n",
    "   - `SE = sqrt{ p_cap * ( 1 - p_cap ) * [ (1/n1) + (1/n2) ] }`\n",
    "\n",
    "   - **where**,\n",
    "     - p_cap is the pooled sample proportion, \n",
    "     - n1 is the size of sample 1,\n",
    "     - n2 is the size of sample 2."
   ]
  },
  {
   "cell_type": "code",
   "execution_count": 56,
   "metadata": {},
   "outputs": [
    {
     "name": "stdout",
     "output_type": "stream",
     "text": [
      "Standard Error:  0.03\n"
     ]
    }
   ],
   "source": [
    "SE = (p_cap * ( 1 - p_cap ) * ( (1 / n1) + (1 / n2) ))**0.5\n",
    "print(\"Standard Error: \",round(SE, 3))"
   ]
  },
  {
   "cell_type": "markdown",
   "metadata": {},
   "source": [
    "### Step 4 Test statistic. \n",
    "- The test statistic is a z-score (z) defined by the following equation.\n",
    "   - `z = (p_cap_1 - p_cap_2) - (p1 - p2) / SE`\n",
    "   - **where**, \n",
    "      - p_cap_1 is the proportion from sample 1, \n",
    "      - p_cap_2 is the proportion from sample 2, \n",
    "      - SE is the standard error of the sampling distribution.\n",
    "- Since p1 − p2 = 0 in the null hypothesis, the Z-test statistic simplifies to the following:\n",
    "    - `z = (p_cap_1 - p_cap_2) / SE` "
   ]
  },
  {
   "cell_type": "code",
   "execution_count": 58,
   "metadata": {},
   "outputs": [
    {
     "name": "stdout",
     "output_type": "stream",
     "text": [
      "z-score :  3.304\n"
     ]
    }
   ],
   "source": [
    "z = (p_cap_1 - p_cap_2 - 0.1) / SE\n",
    "print(\"z-score : \",round(z, 3))"
   ]
  },
  {
   "cell_type": "markdown",
   "metadata": {},
   "source": [
    "### Step – 5 Set Rejection region\n",
    "- Set up the alpha (level of significance). It is not given in the problem.\n",
    "- Considering alpha as `0.05`."
   ]
  },
  {
   "cell_type": "code",
   "execution_count": 59,
   "metadata": {},
   "outputs": [
    {
     "name": "stdout",
     "output_type": "stream",
     "text": [
      "Critical region:  ( -1.645  ,  1.645 )\n"
     ]
    }
   ],
   "source": [
    "from scipy.stats import norm\n",
    "\n",
    "alpha = 0.05\n",
    "right_region = -norm.ppf(0.05)\n",
    "left_region =  norm.ppf(0.05)\n",
    "\n",
    "print(\"Critical region: \",\"(\",round(left_region, 3), \" , \", round(right_region, 3),\")\")"
   ]
  },
  {
   "cell_type": "markdown",
   "metadata": {},
   "source": [
    " \n",
    "- Tabulated z for 0.05 alpha (l.o.s) is `1.645`\n",
    "- we have\n",
    "   - **`z(cal) = 3.304`**\n",
    "   - **`Critical Region:  ( -1.645  ,  1.645 )`**\n"
   ]
  },
  {
   "cell_type": "markdown",
   "metadata": {},
   "source": [
    "### Step – 6 Conclude\n",
    "- As per z test results\n",
    "   - `z = 3.304` **(This test statistic does not lies in the Critical Region)**\n",
    "    - Hence we ***`Reject H0`*** at 5% l.o.s\n"
   ]
  },
  {
   "cell_type": "markdown",
   "metadata": {},
   "source": [
    "# ***Problem Statement 17:***\n",
    "A die is thrown 132 times with the following results: \n",
    "- Number turned up: 1, 2, 3, 4, 5, 6 \n",
    "- Frequency: 16, 20, 25, 14, 29, 28\n",
    "Is the die unbiased? Consider the degrees of freedom as p − ."
   ]
  },
  {
   "cell_type": "markdown",
   "metadata": {},
   "source": [
    "#### **`Solution`**:-"
   ]
  },
  {
   "cell_type": "code",
   "execution_count": 246,
   "metadata": {},
   "outputs": [
    {
     "name": "stdout",
     "output_type": "stream",
     "text": [
      "Chi Square :  9.0\n"
     ]
    }
   ],
   "source": [
    "f_obs= [16, 20, 25, 14, 29, 28]\n",
    "f_exp= [22,22,22,22,22,22]\n",
    "result=stats.chisquare(f_obs,f_exp)\n",
    "chi_squared_stat = result[0]\n",
    "print(\"Chi Square : \",round(chi_squared_stat,3))"
   ]
  },
  {
   "cell_type": "code",
   "execution_count": 247,
   "metadata": {},
   "outputs": [
    {
     "name": "stdout",
     "output_type": "stream",
     "text": [
      "Chi square value is 9.0 and p-value is 0.1090641579497725\n",
      "Dias is unbiased.\n"
     ]
    }
   ],
   "source": [
    "print(f\"Chi square value is {chi_squared_stat} and p-value is {result[1]}\")\n",
    "print('Dias is unbiased.')"
   ]
  },
  {
   "cell_type": "markdown",
   "metadata": {},
   "source": [
    "# ***Problem Statement 18:***\n",
    "In a certain town, there are about one million eligible voters. A simple random sample of 10,000 eligible voters was chosen to study the relationship between gender and participation in the last election. The results are summarized in the following 2X2 (read two by two) contingency table:\n",
    "![image](image2.png)\n",
    "We would want to check whether being a man or a woman (columns) is independent of having voted in the last election (rows). In other words, is “gender and voting independent”?"
   ]
  },
  {
   "cell_type": "markdown",
   "metadata": {},
   "source": [
    "#### **`Solution`**:-"
   ]
  },
  {
   "cell_type": "code",
   "execution_count": 106,
   "metadata": {},
   "outputs": [],
   "source": [
    "import numpy as np\n",
    "import pandas as pd\n",
    "import scipy.stats as stats\n",
    "\n",
    "voted_list = [3591, 2792]\n",
    "not_voted_list = [2131, 1486]\n",
    "value = voted_list + no_voted_list\n",
    "\n",
    "vote = [\"Not Voted\",\"Not Voted\",\"Voted\",\"Voted\"]\n",
    "gender = [\"Women\",'Men','Women','Men']\n",
    "df = pd.DataFrame({\"Gender\":gender,\"Vote\":vote,\"Value\":value})\n"
   ]
  },
  {
   "cell_type": "code",
   "execution_count": 107,
   "metadata": {},
   "outputs": [
    {
     "data": {
      "text/html": [
       "<div>\n",
       "<style scoped>\n",
       "    .dataframe tbody tr th:only-of-type {\n",
       "        vertical-align: middle;\n",
       "    }\n",
       "\n",
       "    .dataframe tbody tr th {\n",
       "        vertical-align: top;\n",
       "    }\n",
       "\n",
       "    .dataframe thead th {\n",
       "        text-align: right;\n",
       "    }\n",
       "</style>\n",
       "<table border=\"1\" class=\"dataframe\">\n",
       "  <thead>\n",
       "    <tr style=\"text-align: right;\">\n",
       "      <th></th>\n",
       "      <th>Gender</th>\n",
       "      <th>Vote</th>\n",
       "      <th>Value</th>\n",
       "    </tr>\n",
       "  </thead>\n",
       "  <tbody>\n",
       "    <tr>\n",
       "      <th>0</th>\n",
       "      <td>Women</td>\n",
       "      <td>Not Voted</td>\n",
       "      <td>3591</td>\n",
       "    </tr>\n",
       "    <tr>\n",
       "      <th>1</th>\n",
       "      <td>Men</td>\n",
       "      <td>Not Voted</td>\n",
       "      <td>2792</td>\n",
       "    </tr>\n",
       "    <tr>\n",
       "      <th>2</th>\n",
       "      <td>Women</td>\n",
       "      <td>Voted</td>\n",
       "      <td>2131</td>\n",
       "    </tr>\n",
       "    <tr>\n",
       "      <th>3</th>\n",
       "      <td>Men</td>\n",
       "      <td>Voted</td>\n",
       "      <td>1486</td>\n",
       "    </tr>\n",
       "  </tbody>\n",
       "</table>\n",
       "</div>"
      ],
      "text/plain": [
       "  Gender       Vote  Value\n",
       "0  Women  Not Voted   3591\n",
       "1    Men  Not Voted   2792\n",
       "2  Women      Voted   2131\n",
       "3    Men      Voted   1486"
      ]
     },
     "execution_count": 107,
     "metadata": {},
     "output_type": "execute_result"
    }
   ],
   "source": [
    "df"
   ]
  },
  {
   "cell_type": "code",
   "execution_count": 108,
   "metadata": {},
   "outputs": [],
   "source": [
    "table = pd.pivot_table(df, values='Value', index = 'Vote', columns= 'Gender', aggfunc = np.sum, margins=True)               "
   ]
  },
  {
   "cell_type": "code",
   "execution_count": 109,
   "metadata": {},
   "outputs": [],
   "source": [
    "table.rename(columns={'All':'Row_Total'}, inplace = True)\n",
    "table.index = [\"Voted\",\"Not Voted\",\"Col_Total\"]"
   ]
  },
  {
   "cell_type": "code",
   "execution_count": 110,
   "metadata": {},
   "outputs": [
    {
     "data": {
      "text/html": [
       "<div>\n",
       "<style scoped>\n",
       "    .dataframe tbody tr th:only-of-type {\n",
       "        vertical-align: middle;\n",
       "    }\n",
       "\n",
       "    .dataframe tbody tr th {\n",
       "        vertical-align: top;\n",
       "    }\n",
       "\n",
       "    .dataframe thead th {\n",
       "        text-align: right;\n",
       "    }\n",
       "</style>\n",
       "<table border=\"1\" class=\"dataframe\">\n",
       "  <thead>\n",
       "    <tr style=\"text-align: right;\">\n",
       "      <th>Gender</th>\n",
       "      <th>Men</th>\n",
       "      <th>Women</th>\n",
       "      <th>Row_Total</th>\n",
       "    </tr>\n",
       "  </thead>\n",
       "  <tbody>\n",
       "    <tr>\n",
       "      <th>Voted</th>\n",
       "      <td>2792</td>\n",
       "      <td>3591</td>\n",
       "      <td>6383</td>\n",
       "    </tr>\n",
       "    <tr>\n",
       "      <th>Not Voted</th>\n",
       "      <td>1486</td>\n",
       "      <td>2131</td>\n",
       "      <td>3617</td>\n",
       "    </tr>\n",
       "    <tr>\n",
       "      <th>Col_Total</th>\n",
       "      <td>4278</td>\n",
       "      <td>5722</td>\n",
       "      <td>10000</td>\n",
       "    </tr>\n",
       "  </tbody>\n",
       "</table>\n",
       "</div>"
      ],
      "text/plain": [
       "Gender      Men  Women  Row_Total\n",
       "Voted      2792   3591       6383\n",
       "Not Voted  1486   2131       3617\n",
       "Col_Total  4278   5722      10000"
      ]
     },
     "execution_count": 110,
     "metadata": {},
     "output_type": "execute_result"
    }
   ],
   "source": [
    "table"
   ]
  },
  {
   "cell_type": "markdown",
   "metadata": {},
   "source": [
    "### Chi-Square test of independence \n",
    "- To Test:\n",
    "   - H0 : The two categorical variables are independent.\n",
    "   - H1 : The two categorical variables are dependent."
   ]
  },
  {
   "cell_type": "markdown",
   "metadata": {},
   "source": [
    "### Step 1: Observed frequencies\n",
    "- Our data are summarized in the contingency table below reporting the number of people in each subgroup, totals by row, by column and the grand total:"
   ]
  },
  {
   "cell_type": "code",
   "execution_count": 111,
   "metadata": {},
   "outputs": [
    {
     "data": {
      "text/html": [
       "<div>\n",
       "<style scoped>\n",
       "    .dataframe tbody tr th:only-of-type {\n",
       "        vertical-align: middle;\n",
       "    }\n",
       "\n",
       "    .dataframe tbody tr th {\n",
       "        vertical-align: top;\n",
       "    }\n",
       "\n",
       "    .dataframe thead th {\n",
       "        text-align: right;\n",
       "    }\n",
       "</style>\n",
       "<table border=\"1\" class=\"dataframe\">\n",
       "  <thead>\n",
       "    <tr style=\"text-align: right;\">\n",
       "      <th>Gender</th>\n",
       "      <th>Men</th>\n",
       "      <th>Women</th>\n",
       "    </tr>\n",
       "  </thead>\n",
       "  <tbody>\n",
       "    <tr>\n",
       "      <th>Voted</th>\n",
       "      <td>2792</td>\n",
       "      <td>3591</td>\n",
       "    </tr>\n",
       "    <tr>\n",
       "      <th>Not Voted</th>\n",
       "      <td>1486</td>\n",
       "      <td>2131</td>\n",
       "    </tr>\n",
       "  </tbody>\n",
       "</table>\n",
       "</div>"
      ],
      "text/plain": [
       "Gender      Men  Women\n",
       "Voted      2792   3591\n",
       "Not Voted  1486   2131"
      ]
     },
     "execution_count": 111,
     "metadata": {},
     "output_type": "execute_result"
    }
   ],
   "source": [
    "obs_table = table.iloc[0:2,0:2]   \n",
    "obs_table"
   ]
  },
  {
   "cell_type": "markdown",
   "metadata": {},
   "source": [
    "### Step 2: Expected frequencies\n",
    "- Remember that for the Chi-square test of independence we need to determine whether the observed counts are significantly different from the counts that we would expect if there was no association between the two variables. \n",
    "- We have the observed counts (see the table above), so we now need to compute the expected counts in the case the variables were independent. \n",
    "- These expected frequencies are computed for each subgroup one by one with the following formula:\n",
    "\n",
    " \n",
    "![image](https://journal.ahima.org/wp-content/uploads/2015/10/Expected-Cell-Frequency-Equation.png)"
   ]
  },
  {
   "cell_type": "code",
   "execution_count": 92,
   "metadata": {},
   "outputs": [],
   "source": [
    "exp_freq =  np.outer(table['Row_Total'][0:2], table.loc[\"Col_Total\"][0:2]) / 10000\n",
    "exp_freq = pd.DataFrame(exp_freq)\n",
    "exp_freq.columns = [\"Men\",\"Women\"]\n",
    "exp_freq.index = [\"Voted\",\"Not Voted\"]"
   ]
  },
  {
   "cell_type": "markdown",
   "metadata": {},
   "source": [
    "- where obs. correspond to observations. Given our table of observed frequencies above, below is the table of the expected frequencies computed for each subgroup:\n"
   ]
  },
  {
   "cell_type": "code",
   "execution_count": 93,
   "metadata": {},
   "outputs": [
    {
     "data": {
      "text/html": [
       "<div>\n",
       "<style scoped>\n",
       "    .dataframe tbody tr th:only-of-type {\n",
       "        vertical-align: middle;\n",
       "    }\n",
       "\n",
       "    .dataframe tbody tr th {\n",
       "        vertical-align: top;\n",
       "    }\n",
       "\n",
       "    .dataframe thead th {\n",
       "        text-align: right;\n",
       "    }\n",
       "</style>\n",
       "<table border=\"1\" class=\"dataframe\">\n",
       "  <thead>\n",
       "    <tr style=\"text-align: right;\">\n",
       "      <th></th>\n",
       "      <th>Men</th>\n",
       "      <th>Women</th>\n",
       "    </tr>\n",
       "  </thead>\n",
       "  <tbody>\n",
       "    <tr>\n",
       "      <th>Voted</th>\n",
       "      <td>2730.6474</td>\n",
       "      <td>3652.3526</td>\n",
       "    </tr>\n",
       "    <tr>\n",
       "      <th>Not Voted</th>\n",
       "      <td>1547.3526</td>\n",
       "      <td>2069.6474</td>\n",
       "    </tr>\n",
       "  </tbody>\n",
       "</table>\n",
       "</div>"
      ],
      "text/plain": [
       "                 Men      Women\n",
       "Voted      2730.6474  3652.3526\n",
       "Not Voted  1547.3526  2069.6474"
      ]
     },
     "execution_count": 93,
     "metadata": {},
     "output_type": "execute_result"
    }
   ],
   "source": [
    "exp_freq"
   ]
  },
  {
   "cell_type": "markdown",
   "metadata": {},
   "source": [
    "### Step 3: Test statistic\n",
    "- We have the observed and expected frequencies. We now need to compare these frequencies to determine if they differ significantly. The difference between the observed and expected frequencies, referred as the test statistic (or t-stat) and denoted χ2, is computed as follows:\n",
    "![image](https://www.thoughtco.com/thmb/ns7d4DC1AqVGme2p1-WYqC26r_s=/768x0/filters:no_upscale():max_bytes(150000):strip_icc()/latex_ac74fec08532861eb5f8b87226ebf396-5c59a6fcc9e77c00016b4195.jpg)"
   ]
  },
  {
   "cell_type": "code",
   "execution_count": 95,
   "metadata": {},
   "outputs": [
    {
     "name": "stdout",
     "output_type": "stream",
     "text": [
      "Chi Squar :  6.66\n"
     ]
    }
   ],
   "source": [
    "chi_squared_stat = (((obs_table-exp_freq)**2) / exp_freq).sum().sum()\n",
    "\n",
    "print(\"Chi Squar : \",round(chi_squared_stat, 3))"
   ]
  },
  {
   "cell_type": "markdown",
   "metadata": {},
   "source": [
    "### Step 4: Critical value\n",
    "- The test statistic alone is not enough to conclude for independence or dependence between the two variables. As previously mentioned, this test statistic must be compared to a critical value to determine whether the difference is large or small. \n",
    "- The critical value can be found in the statistical table of the Chi-square distribution and depends on the significance level, denoted αα, and the degrees of freedom, denoted dfdf. The significance level is usually set equal to 5%. The degrees of freedom for a Chi-square test of independence is found as follow:\n",
    "\n",
    "   **`df = (number of rows − 1) ⋅ (number of columns − 1)`**\n",
    "\n",
    "- In our example, the degrees of freedom is thus \n"
   ]
  },
  {
   "cell_type": "code",
   "execution_count": 96,
   "metadata": {},
   "outputs": [
    {
     "name": "stdout",
     "output_type": "stream",
     "text": [
      "Degrees of Freedom:  1\n"
     ]
    }
   ],
   "source": [
    "df = ( 2 - 1) * ( 2 - 1 )\n",
    "print(\"Degrees of Freedom: \" ,df)"
   ]
  },
  {
   "cell_type": "markdown",
   "metadata": {},
   "source": [
    "- since there are two rows and two columns in the contingency table \n"
   ]
  },
  {
   "cell_type": "code",
   "execution_count": 100,
   "metadata": {},
   "outputs": [
    {
     "name": "stdout",
     "output_type": "stream",
     "text": [
      "Critical value :  3.841\n",
      "P value        :   0.0099\n",
      "\n"
     ]
    }
   ],
   "source": [
    "cri_val = stats.chi2.ppf(q = 0.95, df = 1)   # 95% confidence\n",
    "print(\"Critical value : \",round(cri_val, 3))\n",
    "\n",
    "p_value = 1 - stats.chi2.cdf(x = chi_squared_stat, df=1)\n",
    "print(\"P value        :  \",round(p_value,4))\n",
    "print()"
   ]
  },
  {
   "cell_type": "markdown",
   "metadata": {},
   "source": [
    "- We now have all the necessary information to find the critical value in the Chi-square table (α = 0.05 and df = 1). \n",
    "- The critical value is `3.841`"
   ]
  },
  {
   "cell_type": "markdown",
   "metadata": {},
   "source": [
    "#### Step 5: Conclusion and interpretation\n",
    "- Now that we have the test statistic and the critical value, we can compare them to check whether the null hypothesis of independence of the variables is rejected or not. In our example,\n",
    "\n",
    "    **`test statistic (6.66) > critical value (3.841)`**\n",
    "\n",
    "- therefore **`reject the null hypothesis`** and conclude that the votes depends on gender at a 5% level of significance."
   ]
  },
  {
   "cell_type": "markdown",
   "metadata": {},
   "source": [
    "# ***Problem Statement 19:***"
   ]
  },
  {
   "cell_type": "markdown",
   "metadata": {},
   "source": [
    "#### **`Solution`**:-"
   ]
  },
  {
   "cell_type": "code",
   "execution_count": 229,
   "metadata": {},
   "outputs": [],
   "source": [
    "from scipy.stats import chi2_contingency"
   ]
  },
  {
   "cell_type": "markdown",
   "metadata": {},
   "source": [
    "### Chi-Square test of independence \n",
    "- To Test:\n",
    "   - H0 : All candidates are equally popular.\n",
    "   - H1 : All candidates are not equally popular."
   ]
  },
  {
   "cell_type": "code",
   "execution_count": 239,
   "metadata": {},
   "outputs": [
    {
     "name": "stdout",
     "output_type": "stream",
     "text": [
      "Chi Square :  14.96\n"
     ]
    }
   ],
   "source": [
    "#print(np.mean([41,19,24,16]))\n",
    "obs=[41,19,24,16]\n",
    "exp=[25,25,25,25]\n",
    "result=stats.chisquare(obs,exp)\n",
    "\n",
    "chi_squared_stat = result[0]\n",
    "print(\"Chi Square : \",round(chi_squared_stat,3))\n"
   ]
  },
  {
   "cell_type": "markdown",
   "metadata": {},
   "source": [
    "### Critical value\n",
    "- The test statistic alone is not enough to conclude for independence or dependence between the two variables. As previously mentioned, this test statistic must be compared to a critical value to determine whether the difference is large or small. \n",
    "- The critical value can be found in the statistical table of the Chi-square distribution and depends on the significance level, denoted αα, and the degrees of freedom, denoted dfdf. The significance level is usually set equal to 1%. The degrees of freedom for a Chi-square test of independence is found as follow:\n",
    "\n",
    "   **`df = (number of rows − 1) ⋅ (number of columns − 1)`**\n",
    "\n",
    "- In our example, the degrees of freedom is thus \n"
   ]
  },
  {
   "cell_type": "code",
   "execution_count": 244,
   "metadata": {},
   "outputs": [
    {
     "name": "stdout",
     "output_type": "stream",
     "text": [
      "Degrees of Freedom:  3\n"
     ]
    }
   ],
   "source": [
    "df = ( 4 - 1) * ( 2 - 1 )\n",
    "print(\"Degrees of Freedom: \" ,df)"
   ]
  },
  {
   "cell_type": "markdown",
   "metadata": {},
   "source": [
    "- since there are one rows and four columns in the contingency table \n"
   ]
  },
  {
   "cell_type": "code",
   "execution_count": 245,
   "metadata": {},
   "outputs": [
    {
     "name": "stdout",
     "output_type": "stream",
     "text": [
      "Critical value :  11.345\n",
      "P value        :   0.0019\n",
      "\n"
     ]
    }
   ],
   "source": [
    "cri_val = stats.chi2.ppf(q = 0.99, df = 3)   # 99% confidence\n",
    "print(\"Critical value : \",round(cri_val, 3))\n",
    "\n",
    "p_value = 1 - stats.chi2.cdf(x = chi_squared_stat, df = 3)\n",
    "print(\"P value        :  \",round(p_value,4))\n",
    "print()"
   ]
  },
  {
   "cell_type": "markdown",
   "metadata": {},
   "source": [
    "- We now have all the necessary information to find the critical value in the Chi-square table (α = 0.01 and df = 3). \n",
    "- The critical value is `11.345`"
   ]
  },
  {
   "cell_type": "markdown",
   "metadata": {},
   "source": [
    "### Conclusion and interpretation\n",
    "- Now that we have the test statistic and the critical value, we can compare them to check whether the null hypothesis of independence of the variables is rejected or not. In our example,\n",
    "\n",
    "    **`test statistic (14.96) > critical value (11.345)`**\n",
    "\n",
    "- therefore **`reject the null hypothesis`** and conclude that All candidates are not equally popular at a 1% level of significance.\n"
   ]
  },
  {
   "cell_type": "markdown",
   "metadata": {},
   "source": [
    "# ***Problem Statement 20:***\n",
    "Children of three ages are asked to indicate their preference for three photographs of adults. Do the data suggest that there is a significant relationship between age and photograph preference? What is wrong with this study? [Chi-Square = 29.6, with 4 df: 𝑝 < 0.05].Children of three ages are asked to indicate their preference for three photographs of adults. Do the data suggest that there is a significant relationship between age and photograph preference? What is wrong with this study? [Chi-Square = 29.6, with 4 df: 𝑝 < 0.05].\n",
    "![image](image3.png)"
   ]
  },
  {
   "cell_type": "markdown",
   "metadata": {},
   "source": [
    "#### **`Solution`**:-"
   ]
  },
  {
   "cell_type": "markdown",
   "metadata": {},
   "source": [
    "### Chi-Square test of independence \n",
    "- To Test:\n",
    "   - H0 : There is no significant relationship between age and photograph preference.\n",
    "   - H1 : There is significant relationship between age and photograph preference."
   ]
  },
  {
   "cell_type": "code",
   "execution_count": 235,
   "metadata": {},
   "outputs": [
    {
     "name": "stdout",
     "output_type": "stream",
     "text": [
      "Chi Square :  29.603\n"
     ]
    }
   ],
   "source": [
    "obs=([[18,22,20],[2,28,40],[20,10,40]])\n",
    "result = chi2_contingency(obs)\n",
    "chi_squared_stat = result[0]\n",
    "print(\"Chi Square : \",round(chi_squared_stat,3))\n"
   ]
  },
  {
   "cell_type": "markdown",
   "metadata": {},
   "source": [
    "### Critical value\n",
    "- The test statistic alone is not enough to conclude for independence or dependence between the two variables. As previously mentioned, this test statistic must be compared to a critical value to determine whether the difference is large or small. \n",
    "- The critical value can be found in the statistical table of the Chi-square distribution and depends on the significance level, denoted αα, and the degrees of freedom, denoted dfdf. The significance level is usually set equal to 1%. The degrees of freedom for a Chi-square test of independence is found as follow:\n",
    "\n",
    "   **`df = (number of rows − 1) ⋅ (number of columns − 1)`**\n",
    "\n",
    "- In our example, the degrees of freedom is thus \n"
   ]
  },
  {
   "cell_type": "code",
   "execution_count": 234,
   "metadata": {},
   "outputs": [
    {
     "name": "stdout",
     "output_type": "stream",
     "text": [
      "Degrees of Freedom:  4\n"
     ]
    }
   ],
   "source": [
    "df = ( 3 - 1) * ( 3 - 1 )\n",
    "print(\"Degrees of Freedom: \" ,df)"
   ]
  },
  {
   "cell_type": "markdown",
   "metadata": {},
   "source": [
    "- since there are three rows and three columns in the contingency table \n"
   ]
  },
  {
   "cell_type": "code",
   "execution_count": 238,
   "metadata": {},
   "outputs": [
    {
     "name": "stdout",
     "output_type": "stream",
     "text": [
      "Critical value :  13.277\n",
      "P value        :   0.0\n",
      "\n"
     ]
    }
   ],
   "source": [
    "cri_val = stats.chi2.ppf(q = 0.99, df = 4)   # 99% confidence\n",
    "print(\"Critical value : \",round(cri_val, 3))\n",
    "\n",
    "p_value = 1 - stats.chi2.cdf(x = chi_squared_stat, df = 4)\n",
    "print(\"P value        :  \",round(p_value,4))\n",
    "print()"
   ]
  },
  {
   "cell_type": "markdown",
   "metadata": {},
   "source": [
    "- We now have all the necessary information to find the critical value in the Chi-square table (α = 0.01 and df = 4). \n",
    "- The critical value is `13.277`"
   ]
  },
  {
   "cell_type": "markdown",
   "metadata": {},
   "source": [
    "### Conclusion and interpretation\n",
    "- Now that we have the test statistic and the critical value, we can compare them to check whether the null hypothesis of independence of the variables is rejected or not. In our example,\n",
    "\n",
    "    **`test statistic (29.603) > critical value (13.277)`**\n",
    "\n",
    "- therefore **`reject the null hypothesis`** and conclude that There is significant relationship between age and photograph preference at a 1% level of significance.\n"
   ]
  },
  {
   "cell_type": "markdown",
   "metadata": {},
   "source": [
    "# ***Problem Statement 21:***\n",
    "A study of conformity using the Asch paradigm involved two conditions: one where one confederate supported the true judgement and another where no confederate gave the correct response.\n",
    "![image](image4.png)\n",
    "Is there a significant difference between the \"support\" and \"no support\" conditions in the frequency with which individuals are likely to conform? [Chi-Square = 19.87, with 1 df: 𝑝 < 0.05]."
   ]
  },
  {
   "cell_type": "markdown",
   "metadata": {},
   "source": [
    "#### **`Solution`**:-"
   ]
  },
  {
   "cell_type": "code",
   "execution_count": 131,
   "metadata": {},
   "outputs": [],
   "source": [
    "import numpy as np\n",
    "import pandas as pd\n",
    "import scipy.stats as stats\n",
    "\n",
    "conform_list = [32, 10]\n",
    "no_conform_list = [18, 40]\n",
    "value = conform_list + no_conform_list\n",
    "\n",
    "con = [\"Not Conform\",\"Not Conform\",\"Conform\",\"Conform\"]\n",
    "supp = [\"Not Support\",'Support','Not Support','Support']\n",
    "df = pd.DataFrame({\"Supp\":supp,\"Con\":con,\"Value\":value})\n"
   ]
  },
  {
   "cell_type": "code",
   "execution_count": 132,
   "metadata": {},
   "outputs": [
    {
     "data": {
      "text/html": [
       "<div>\n",
       "<style scoped>\n",
       "    .dataframe tbody tr th:only-of-type {\n",
       "        vertical-align: middle;\n",
       "    }\n",
       "\n",
       "    .dataframe tbody tr th {\n",
       "        vertical-align: top;\n",
       "    }\n",
       "\n",
       "    .dataframe thead th {\n",
       "        text-align: right;\n",
       "    }\n",
       "</style>\n",
       "<table border=\"1\" class=\"dataframe\">\n",
       "  <thead>\n",
       "    <tr style=\"text-align: right;\">\n",
       "      <th></th>\n",
       "      <th>Supp</th>\n",
       "      <th>Con</th>\n",
       "      <th>Value</th>\n",
       "    </tr>\n",
       "  </thead>\n",
       "  <tbody>\n",
       "    <tr>\n",
       "      <th>0</th>\n",
       "      <td>Not Support</td>\n",
       "      <td>Not Conform</td>\n",
       "      <td>32</td>\n",
       "    </tr>\n",
       "    <tr>\n",
       "      <th>1</th>\n",
       "      <td>Support</td>\n",
       "      <td>Not Conform</td>\n",
       "      <td>10</td>\n",
       "    </tr>\n",
       "    <tr>\n",
       "      <th>2</th>\n",
       "      <td>Not Support</td>\n",
       "      <td>Conform</td>\n",
       "      <td>18</td>\n",
       "    </tr>\n",
       "    <tr>\n",
       "      <th>3</th>\n",
       "      <td>Support</td>\n",
       "      <td>Conform</td>\n",
       "      <td>40</td>\n",
       "    </tr>\n",
       "  </tbody>\n",
       "</table>\n",
       "</div>"
      ],
      "text/plain": [
       "          Supp          Con  Value\n",
       "0  Not Support  Not Conform     32\n",
       "1      Support  Not Conform     10\n",
       "2  Not Support      Conform     18\n",
       "3      Support      Conform     40"
      ]
     },
     "execution_count": 132,
     "metadata": {},
     "output_type": "execute_result"
    }
   ],
   "source": [
    "df"
   ]
  },
  {
   "cell_type": "code",
   "execution_count": 133,
   "metadata": {},
   "outputs": [],
   "source": [
    "table = pd.pivot_table(df, values='Value', index = 'Con', columns= 'Supp', aggfunc = np.sum, margins=True)               "
   ]
  },
  {
   "cell_type": "code",
   "execution_count": 136,
   "metadata": {},
   "outputs": [],
   "source": [
    "table.rename(columns={\"Not Support\":\"Support\",'Support':'Not Support','All':'Row_Total'}, inplace = True)\n",
    "table.index = [\"Conform\",\"Not Conform\",\"Col_Total\"]"
   ]
  },
  {
   "cell_type": "code",
   "execution_count": 137,
   "metadata": {},
   "outputs": [
    {
     "data": {
      "text/html": [
       "<div>\n",
       "<style scoped>\n",
       "    .dataframe tbody tr th:only-of-type {\n",
       "        vertical-align: middle;\n",
       "    }\n",
       "\n",
       "    .dataframe tbody tr th {\n",
       "        vertical-align: top;\n",
       "    }\n",
       "\n",
       "    .dataframe thead th {\n",
       "        text-align: right;\n",
       "    }\n",
       "</style>\n",
       "<table border=\"1\" class=\"dataframe\">\n",
       "  <thead>\n",
       "    <tr style=\"text-align: right;\">\n",
       "      <th>Supp</th>\n",
       "      <th>Support</th>\n",
       "      <th>Not Support</th>\n",
       "      <th>Row_Total</th>\n",
       "    </tr>\n",
       "  </thead>\n",
       "  <tbody>\n",
       "    <tr>\n",
       "      <th>Conform</th>\n",
       "      <td>18</td>\n",
       "      <td>40</td>\n",
       "      <td>58</td>\n",
       "    </tr>\n",
       "    <tr>\n",
       "      <th>Not Conform</th>\n",
       "      <td>32</td>\n",
       "      <td>10</td>\n",
       "      <td>42</td>\n",
       "    </tr>\n",
       "    <tr>\n",
       "      <th>Col_Total</th>\n",
       "      <td>50</td>\n",
       "      <td>50</td>\n",
       "      <td>100</td>\n",
       "    </tr>\n",
       "  </tbody>\n",
       "</table>\n",
       "</div>"
      ],
      "text/plain": [
       "Supp         Support  Not Support  Row_Total\n",
       "Conform           18           40         58\n",
       "Not Conform       32           10         42\n",
       "Col_Total         50           50        100"
      ]
     },
     "execution_count": 137,
     "metadata": {},
     "output_type": "execute_result"
    }
   ],
   "source": [
    "table"
   ]
  },
  {
   "cell_type": "markdown",
   "metadata": {},
   "source": [
    "### Chi-Square test of independence \n",
    "- To Test:\n",
    "   - H0 : The two categorical variables are independent.\n",
    "   - H1 : The two categorical variables are dependent."
   ]
  },
  {
   "cell_type": "markdown",
   "metadata": {},
   "source": [
    "### Step 1: Observed frequencies\n",
    "- Our data are summarized in the contingency table below reporting the number of people in each subgroup, totals by row, by column and the grand total:"
   ]
  },
  {
   "cell_type": "code",
   "execution_count": 138,
   "metadata": {},
   "outputs": [
    {
     "data": {
      "text/html": [
       "<div>\n",
       "<style scoped>\n",
       "    .dataframe tbody tr th:only-of-type {\n",
       "        vertical-align: middle;\n",
       "    }\n",
       "\n",
       "    .dataframe tbody tr th {\n",
       "        vertical-align: top;\n",
       "    }\n",
       "\n",
       "    .dataframe thead th {\n",
       "        text-align: right;\n",
       "    }\n",
       "</style>\n",
       "<table border=\"1\" class=\"dataframe\">\n",
       "  <thead>\n",
       "    <tr style=\"text-align: right;\">\n",
       "      <th>Supp</th>\n",
       "      <th>Support</th>\n",
       "      <th>Not Support</th>\n",
       "    </tr>\n",
       "  </thead>\n",
       "  <tbody>\n",
       "    <tr>\n",
       "      <th>Conform</th>\n",
       "      <td>18</td>\n",
       "      <td>40</td>\n",
       "    </tr>\n",
       "    <tr>\n",
       "      <th>Not Conform</th>\n",
       "      <td>32</td>\n",
       "      <td>10</td>\n",
       "    </tr>\n",
       "  </tbody>\n",
       "</table>\n",
       "</div>"
      ],
      "text/plain": [
       "Supp         Support  Not Support\n",
       "Conform           18           40\n",
       "Not Conform       32           10"
      ]
     },
     "execution_count": 138,
     "metadata": {},
     "output_type": "execute_result"
    }
   ],
   "source": [
    "obs_table = table.iloc[0:2,0:2]   \n",
    "obs_table"
   ]
  },
  {
   "cell_type": "markdown",
   "metadata": {},
   "source": [
    "### Step 2: Expected frequencies\n",
    "- Remember that for the Chi-square test of independence we need to determine whether the observed counts are significantly different from the counts that we would expect if there was no association between the two variables. \n",
    "- We have the observed counts (see the table above), so we now need to compute the expected counts in the case the variables were independent. \n",
    "- These expected frequencies are computed for each subgroup one by one with the following formula:\n",
    "\n",
    " \n",
    "![image](https://journal.ahima.org/wp-content/uploads/2015/10/Expected-Cell-Frequency-Equation.png)"
   ]
  },
  {
   "cell_type": "code",
   "execution_count": 161,
   "metadata": {},
   "outputs": [],
   "source": [
    "exp_freq =  np.outer(table['Row_Total'][0:2], table.loc[\"Col_Total\"][0:2]) / 100\n",
    "exp_freq = pd.DataFrame(exp_freq)\n",
    "exp_freq.columns = [\"Support\",\"Not Support\"]\n",
    "exp_freq.index = [\"Conform\",\"Not Conform\"]"
   ]
  },
  {
   "cell_type": "markdown",
   "metadata": {},
   "source": [
    "- where obs. correspond to observations. Given our table of observed frequencies above, below is the table of the expected frequencies computed for each subgroup:\n"
   ]
  },
  {
   "cell_type": "code",
   "execution_count": 162,
   "metadata": {},
   "outputs": [
    {
     "data": {
      "text/html": [
       "<div>\n",
       "<style scoped>\n",
       "    .dataframe tbody tr th:only-of-type {\n",
       "        vertical-align: middle;\n",
       "    }\n",
       "\n",
       "    .dataframe tbody tr th {\n",
       "        vertical-align: top;\n",
       "    }\n",
       "\n",
       "    .dataframe thead th {\n",
       "        text-align: right;\n",
       "    }\n",
       "</style>\n",
       "<table border=\"1\" class=\"dataframe\">\n",
       "  <thead>\n",
       "    <tr style=\"text-align: right;\">\n",
       "      <th></th>\n",
       "      <th>Support</th>\n",
       "      <th>Not Support</th>\n",
       "    </tr>\n",
       "  </thead>\n",
       "  <tbody>\n",
       "    <tr>\n",
       "      <th>Conform</th>\n",
       "      <td>29.0</td>\n",
       "      <td>29.0</td>\n",
       "    </tr>\n",
       "    <tr>\n",
       "      <th>Not Conform</th>\n",
       "      <td>21.0</td>\n",
       "      <td>21.0</td>\n",
       "    </tr>\n",
       "  </tbody>\n",
       "</table>\n",
       "</div>"
      ],
      "text/plain": [
       "             Support  Not Support\n",
       "Conform         29.0         29.0\n",
       "Not Conform     21.0         21.0"
      ]
     },
     "execution_count": 162,
     "metadata": {},
     "output_type": "execute_result"
    }
   ],
   "source": [
    "exp_freq"
   ]
  },
  {
   "cell_type": "markdown",
   "metadata": {},
   "source": [
    "### Step 3: Test statistic\n",
    "- We have the observed and expected frequencies. We now need to compare these frequencies to determine if they differ significantly. The difference between the observed and expected frequencies, referred as the test statistic (or t-stat) and denoted χ2, is computed as follows:\n",
    "![image](https://www.thoughtco.com/thmb/ns7d4DC1AqVGme2p1-WYqC26r_s=/768x0/filters:no_upscale():max_bytes(150000):strip_icc()/latex_ac74fec08532861eb5f8b87226ebf396-5c59a6fcc9e77c00016b4195.jpg)"
   ]
  },
  {
   "cell_type": "code",
   "execution_count": 163,
   "metadata": {},
   "outputs": [
    {
     "name": "stdout",
     "output_type": "stream",
     "text": [
      "Chi Squar :  19.869\n"
     ]
    }
   ],
   "source": [
    "chi_squared_stat = (((obs_table - exp_freq)**2) / exp_freq).sum().sum()\n",
    "\n",
    "print(\"Chi Squar : \",round(chi_squared_stat, 3))"
   ]
  },
  {
   "cell_type": "markdown",
   "metadata": {},
   "source": [
    "### Step 4: Critical value\n",
    "- The test statistic alone is not enough to conclude for independence or dependence between the two variables. As previously mentioned, this test statistic must be compared to a critical value to determine whether the difference is large or small. \n",
    "- The critical value can be found in the statistical table of the Chi-square distribution and depends on the significance level, denoted αα, and the degrees of freedom, denoted dfdf. The significance level is usually set equal to 5%. The degrees of freedom for a Chi-square test of independence is found as follow:\n",
    "\n",
    "   **`df = (number of rows − 1) ⋅ (number of columns − 1)`**\n",
    "\n",
    "- In our example, the degrees of freedom is thus \n"
   ]
  },
  {
   "cell_type": "code",
   "execution_count": 153,
   "metadata": {},
   "outputs": [
    {
     "name": "stdout",
     "output_type": "stream",
     "text": [
      "Degrees of Freedom:  1\n"
     ]
    }
   ],
   "source": [
    "df = ( 2 - 1) * ( 2 - 1 )\n",
    "print(\"Degrees of Freedom: \" ,df)"
   ]
  },
  {
   "cell_type": "markdown",
   "metadata": {},
   "source": [
    "- since there are two rows and two columns in the contingency table \n"
   ]
  },
  {
   "cell_type": "code",
   "execution_count": 166,
   "metadata": {},
   "outputs": [
    {
     "name": "stdout",
     "output_type": "stream",
     "text": [
      "Critical value :  3.841\n",
      "P value        :  0.0\n",
      "\n"
     ]
    }
   ],
   "source": [
    "cri_val = stats.chi2.ppf(q = 0.95, df = 1)   # 95% confidence\n",
    "print(\"Critical value : \",round(cri_val, 3))\n",
    "\n",
    "p_value = 1 - stats.chi2.cdf(x = chi_squared_stat, df=1)\n",
    "print(\"P value        : \",round(p_value,4))\n",
    "print()"
   ]
  },
  {
   "cell_type": "markdown",
   "metadata": {},
   "source": [
    "- We now have all the necessary information to find the critical value in the Chi-square table (α = 0.05 and df = 1). \n",
    "- The critical value is `3.841`"
   ]
  },
  {
   "cell_type": "markdown",
   "metadata": {},
   "source": [
    "#### Step 5: Conclusion and interpretation\n",
    "- Now that we have the test statistic and the critical value, we can compare them to check whether the null hypothesis of independence of the variables is rejected or not. In our example,\n",
    "\n",
    "    **`test statistic (19.86) > critical value (3.841)`**\n",
    "\n",
    "- therefore **`reject the null hypothesis`** and The two categorical variables are dependent. on support at a 5% level of significance."
   ]
  },
  {
   "cell_type": "markdown",
   "metadata": {},
   "source": [
    "# ***Problem Statement 22:***\n",
    "We want to test whether short people differ with respect to their leadership qualities (Genghis Khan, Adolf Hitler and Napoleon were all stature-deprived, and how many midget MP's are there?) The following table shows the frequencies with which 43 short people and 52 tall people were categorized as \"leaders\", \"followers\" or as \"unclassifiable\". Is there a relationship between height and leadership qualities? [Chi-Square = 10.71, with 2 df: 𝑝 < 0.01].\n",
    "![image](image5.png)"
   ]
  },
  {
   "cell_type": "markdown",
   "metadata": {},
   "source": [
    "#### **`Solution`**:-"
   ]
  },
  {
   "cell_type": "code",
   "execution_count": 195,
   "metadata": {},
   "outputs": [],
   "source": [
    "import numpy as np\n",
    "import pandas as pd\n",
    "import scipy.stats as stats\n",
    "\n",
    "lea_list = [12, 32]\n",
    "flo_list = [22, 14]\n",
    "uncls_list = [9, 6]\n",
    "value =  lea_list  + flo_list + uncls_list\n",
    "\n",
    "led = [\"Leader\",\"Leader\",\"Follower\",\"Follower\",\"Unclassifiable\",\"Unclassifiable\"]\n",
    "sh_ta = [\"Short\",\"Tall\",\"Short\",\"Tall\",\"Short\",\"Tall\"]\n",
    "df = pd.DataFrame({\"Height\":sh_ta,\"Class\":led,\"Value\":value})\n"
   ]
  },
  {
   "cell_type": "code",
   "execution_count": 196,
   "metadata": {},
   "outputs": [
    {
     "data": {
      "text/html": [
       "<div>\n",
       "<style scoped>\n",
       "    .dataframe tbody tr th:only-of-type {\n",
       "        vertical-align: middle;\n",
       "    }\n",
       "\n",
       "    .dataframe tbody tr th {\n",
       "        vertical-align: top;\n",
       "    }\n",
       "\n",
       "    .dataframe thead th {\n",
       "        text-align: right;\n",
       "    }\n",
       "</style>\n",
       "<table border=\"1\" class=\"dataframe\">\n",
       "  <thead>\n",
       "    <tr style=\"text-align: right;\">\n",
       "      <th></th>\n",
       "      <th>Height</th>\n",
       "      <th>Class</th>\n",
       "      <th>Value</th>\n",
       "    </tr>\n",
       "  </thead>\n",
       "  <tbody>\n",
       "    <tr>\n",
       "      <th>0</th>\n",
       "      <td>Short</td>\n",
       "      <td>Leader</td>\n",
       "      <td>12</td>\n",
       "    </tr>\n",
       "    <tr>\n",
       "      <th>1</th>\n",
       "      <td>Tall</td>\n",
       "      <td>Leader</td>\n",
       "      <td>32</td>\n",
       "    </tr>\n",
       "    <tr>\n",
       "      <th>2</th>\n",
       "      <td>Short</td>\n",
       "      <td>Follower</td>\n",
       "      <td>22</td>\n",
       "    </tr>\n",
       "    <tr>\n",
       "      <th>3</th>\n",
       "      <td>Tall</td>\n",
       "      <td>Follower</td>\n",
       "      <td>14</td>\n",
       "    </tr>\n",
       "    <tr>\n",
       "      <th>4</th>\n",
       "      <td>Short</td>\n",
       "      <td>Unclassifiable</td>\n",
       "      <td>9</td>\n",
       "    </tr>\n",
       "    <tr>\n",
       "      <th>5</th>\n",
       "      <td>Tall</td>\n",
       "      <td>Unclassifiable</td>\n",
       "      <td>6</td>\n",
       "    </tr>\n",
       "  </tbody>\n",
       "</table>\n",
       "</div>"
      ],
      "text/plain": [
       "  Height           Class  Value\n",
       "0  Short          Leader     12\n",
       "1   Tall          Leader     32\n",
       "2  Short        Follower     22\n",
       "3   Tall        Follower     14\n",
       "4  Short  Unclassifiable      9\n",
       "5   Tall  Unclassifiable      6"
      ]
     },
     "execution_count": 196,
     "metadata": {},
     "output_type": "execute_result"
    }
   ],
   "source": [
    "df"
   ]
  },
  {
   "cell_type": "code",
   "execution_count": 197,
   "metadata": {},
   "outputs": [],
   "source": [
    "table = pd.pivot_table(df, values='Value', index = 'Class', columns= 'Height', aggfunc = np.sum, margins=True)               "
   ]
  },
  {
   "cell_type": "code",
   "execution_count": 199,
   "metadata": {},
   "outputs": [],
   "source": [
    "table.rename(columns={'All':'Row_Total'}, inplace = True)\n",
    "table.index = [\"Follower\",\"Leader\",\"Unclassifiable\",\"Col_Total\"]"
   ]
  },
  {
   "cell_type": "code",
   "execution_count": 200,
   "metadata": {},
   "outputs": [
    {
     "data": {
      "text/html": [
       "<div>\n",
       "<style scoped>\n",
       "    .dataframe tbody tr th:only-of-type {\n",
       "        vertical-align: middle;\n",
       "    }\n",
       "\n",
       "    .dataframe tbody tr th {\n",
       "        vertical-align: top;\n",
       "    }\n",
       "\n",
       "    .dataframe thead th {\n",
       "        text-align: right;\n",
       "    }\n",
       "</style>\n",
       "<table border=\"1\" class=\"dataframe\">\n",
       "  <thead>\n",
       "    <tr style=\"text-align: right;\">\n",
       "      <th>Height</th>\n",
       "      <th>Short</th>\n",
       "      <th>Tall</th>\n",
       "      <th>Row_Total</th>\n",
       "    </tr>\n",
       "  </thead>\n",
       "  <tbody>\n",
       "    <tr>\n",
       "      <th>Follower</th>\n",
       "      <td>22</td>\n",
       "      <td>14</td>\n",
       "      <td>36</td>\n",
       "    </tr>\n",
       "    <tr>\n",
       "      <th>Leader</th>\n",
       "      <td>12</td>\n",
       "      <td>32</td>\n",
       "      <td>44</td>\n",
       "    </tr>\n",
       "    <tr>\n",
       "      <th>Unclassifiable</th>\n",
       "      <td>9</td>\n",
       "      <td>6</td>\n",
       "      <td>15</td>\n",
       "    </tr>\n",
       "    <tr>\n",
       "      <th>Col_Total</th>\n",
       "      <td>43</td>\n",
       "      <td>52</td>\n",
       "      <td>95</td>\n",
       "    </tr>\n",
       "  </tbody>\n",
       "</table>\n",
       "</div>"
      ],
      "text/plain": [
       "Height          Short  Tall  Row_Total\n",
       "Follower           22    14         36\n",
       "Leader             12    32         44\n",
       "Unclassifiable      9     6         15\n",
       "Col_Total          43    52         95"
      ]
     },
     "execution_count": 200,
     "metadata": {},
     "output_type": "execute_result"
    }
   ],
   "source": [
    "table"
   ]
  },
  {
   "cell_type": "markdown",
   "metadata": {},
   "source": [
    "### Chi-Square test of independence \n",
    "- To Test:\n",
    "   - H0 : The two categorical variables are independent.\n",
    "   - H1 : The two categorical variables are dependent."
   ]
  },
  {
   "cell_type": "markdown",
   "metadata": {},
   "source": [
    "### Step 1: Observed frequencies\n",
    "- Our data are summarized in the contingency table below reporting the number of people in each subgroup, totals by row, by column and the grand total:"
   ]
  },
  {
   "cell_type": "code",
   "execution_count": 204,
   "metadata": {},
   "outputs": [
    {
     "data": {
      "text/html": [
       "<div>\n",
       "<style scoped>\n",
       "    .dataframe tbody tr th:only-of-type {\n",
       "        vertical-align: middle;\n",
       "    }\n",
       "\n",
       "    .dataframe tbody tr th {\n",
       "        vertical-align: top;\n",
       "    }\n",
       "\n",
       "    .dataframe thead th {\n",
       "        text-align: right;\n",
       "    }\n",
       "</style>\n",
       "<table border=\"1\" class=\"dataframe\">\n",
       "  <thead>\n",
       "    <tr style=\"text-align: right;\">\n",
       "      <th>Height</th>\n",
       "      <th>Short</th>\n",
       "      <th>Tall</th>\n",
       "    </tr>\n",
       "  </thead>\n",
       "  <tbody>\n",
       "    <tr>\n",
       "      <th>Follower</th>\n",
       "      <td>22</td>\n",
       "      <td>14</td>\n",
       "    </tr>\n",
       "    <tr>\n",
       "      <th>Leader</th>\n",
       "      <td>12</td>\n",
       "      <td>32</td>\n",
       "    </tr>\n",
       "    <tr>\n",
       "      <th>Unclassifiable</th>\n",
       "      <td>9</td>\n",
       "      <td>6</td>\n",
       "    </tr>\n",
       "  </tbody>\n",
       "</table>\n",
       "</div>"
      ],
      "text/plain": [
       "Height          Short  Tall\n",
       "Follower           22    14\n",
       "Leader             12    32\n",
       "Unclassifiable      9     6"
      ]
     },
     "execution_count": 204,
     "metadata": {},
     "output_type": "execute_result"
    }
   ],
   "source": [
    "obs_table = table.iloc[0:3,0:2]   \n",
    "obs_table"
   ]
  },
  {
   "cell_type": "markdown",
   "metadata": {},
   "source": [
    "### Step 2: Expected frequencies\n",
    "- Remember that for the Chi-square test of independence we need to determine whether the observed counts are significantly different from the counts that we would expect if there was no association between the two variables. \n",
    "- We have the observed counts (see the table above), so we now need to compute the expected counts in the case the variables were independent. \n",
    "- These expected frequencies are computed for each subgroup one by one with the following formula:\n",
    "\n",
    " \n",
    "![image](https://journal.ahima.org/wp-content/uploads/2015/10/Expected-Cell-Frequency-Equation.png)"
   ]
  },
  {
   "cell_type": "code",
   "execution_count": 206,
   "metadata": {},
   "outputs": [],
   "source": [
    "exp_freq =  np.outer(table['Row_Total'][0:3], table.loc[\"Col_Total\"][0:2]) / 95\n",
    "exp_freq = pd.DataFrame(exp_freq)\n",
    "exp_freq.columns = [\"Short\",\"Tall\"]\n",
    "exp_freq.index = [\"Follower\",\"Leader\",\"Unclassifiable\"]"
   ]
  },
  {
   "cell_type": "markdown",
   "metadata": {},
   "source": [
    "- where obs. correspond to observations. Given our table of observed frequencies above, below is the table of the expected frequencies computed for each subgroup:\n"
   ]
  },
  {
   "cell_type": "code",
   "execution_count": 207,
   "metadata": {},
   "outputs": [
    {
     "data": {
      "text/html": [
       "<div>\n",
       "<style scoped>\n",
       "    .dataframe tbody tr th:only-of-type {\n",
       "        vertical-align: middle;\n",
       "    }\n",
       "\n",
       "    .dataframe tbody tr th {\n",
       "        vertical-align: top;\n",
       "    }\n",
       "\n",
       "    .dataframe thead th {\n",
       "        text-align: right;\n",
       "    }\n",
       "</style>\n",
       "<table border=\"1\" class=\"dataframe\">\n",
       "  <thead>\n",
       "    <tr style=\"text-align: right;\">\n",
       "      <th></th>\n",
       "      <th>Short</th>\n",
       "      <th>Tall</th>\n",
       "    </tr>\n",
       "  </thead>\n",
       "  <tbody>\n",
       "    <tr>\n",
       "      <th>Follower</th>\n",
       "      <td>16.294737</td>\n",
       "      <td>19.705263</td>\n",
       "    </tr>\n",
       "    <tr>\n",
       "      <th>Leader</th>\n",
       "      <td>19.915789</td>\n",
       "      <td>24.084211</td>\n",
       "    </tr>\n",
       "    <tr>\n",
       "      <th>Unclassifiable</th>\n",
       "      <td>6.789474</td>\n",
       "      <td>8.210526</td>\n",
       "    </tr>\n",
       "  </tbody>\n",
       "</table>\n",
       "</div>"
      ],
      "text/plain": [
       "                    Short       Tall\n",
       "Follower        16.294737  19.705263\n",
       "Leader          19.915789  24.084211\n",
       "Unclassifiable   6.789474   8.210526"
      ]
     },
     "execution_count": 207,
     "metadata": {},
     "output_type": "execute_result"
    }
   ],
   "source": [
    "exp_freq"
   ]
  },
  {
   "cell_type": "markdown",
   "metadata": {},
   "source": [
    "### Step 3: Test statistic\n",
    "- We have the observed and expected frequencies. We now need to compare these frequencies to determine if they differ significantly. The difference between the observed and expected frequencies, referred as the test statistic (or t-stat) and denoted χ2, is computed as follows:\n",
    "![image](https://www.thoughtco.com/thmb/ns7d4DC1AqVGme2p1-WYqC26r_s=/768x0/filters:no_upscale():max_bytes(150000):strip_icc()/latex_ac74fec08532861eb5f8b87226ebf396-5c59a6fcc9e77c00016b4195.jpg)"
   ]
  },
  {
   "cell_type": "code",
   "execution_count": 208,
   "metadata": {},
   "outputs": [
    {
     "name": "stdout",
     "output_type": "stream",
     "text": [
      "Chi Squar :  10.712\n"
     ]
    }
   ],
   "source": [
    "chi_squared_stat = (((obs_table-exp_freq)**2) / exp_freq).sum().sum()\n",
    "\n",
    "print(\"Chi Squar : \",round(chi_squared_stat, 3))"
   ]
  },
  {
   "cell_type": "markdown",
   "metadata": {},
   "source": [
    "### Step 4: Critical value\n",
    "- The test statistic alone is not enough to conclude for independence or dependence between the two variables. As previously mentioned, this test statistic must be compared to a critical value to determine whether the difference is large or small. \n",
    "- The critical value can be found in the statistical table of the Chi-square distribution and depends on the significance level, denoted αα, and the degrees of freedom, denoted dfdf. The significance level is usually set equal to 5%. The degrees of freedom for a Chi-square test of independence is found as follow:\n",
    "\n",
    "   **`df = (number of rows − 1) ⋅ (number of columns − 1)`**\n",
    "\n",
    "- In our example, the degrees of freedom is thus \n"
   ]
  },
  {
   "cell_type": "code",
   "execution_count": 209,
   "metadata": {},
   "outputs": [
    {
     "name": "stdout",
     "output_type": "stream",
     "text": [
      "Degrees of Freedom:  2\n"
     ]
    }
   ],
   "source": [
    "df = ( 3 - 1) * ( 2 - 1 )\n",
    "print(\"Degrees of Freedom: \" ,df)"
   ]
  },
  {
   "cell_type": "markdown",
   "metadata": {},
   "source": [
    "- since there are three rows and two columns in the contingency table \n"
   ]
  },
  {
   "cell_type": "code",
   "execution_count": 210,
   "metadata": {},
   "outputs": [
    {
     "name": "stdout",
     "output_type": "stream",
     "text": [
      "Critical value :  5.991\n",
      "P value        :   0.0047\n",
      "\n"
     ]
    }
   ],
   "source": [
    "cri_val = stats.chi2.ppf(q = 0.95, df = 2)   # 95% confidence\n",
    "print(\"Critical value : \",round(cri_val, 3))\n",
    "\n",
    "p_value = 1 - stats.chi2.cdf(x = chi_squared_stat, df = 2)\n",
    "print(\"P value        :  \",round(p_value,4))\n",
    "print()"
   ]
  },
  {
   "cell_type": "markdown",
   "metadata": {},
   "source": [
    "- We now have all the necessary information to find the critical value in the Chi-square table (α = 0.05 and df = 2). \n",
    "- The critical value is `5.991`"
   ]
  },
  {
   "cell_type": "markdown",
   "metadata": {},
   "source": [
    "#### Step 5: Conclusion and interpretation\n",
    "- Now that we have the test statistic and the critical value, we can compare them to check whether the null hypothesis of independence of the variables is rejected or not. In our example,\n",
    "\n",
    "    **`test statistic (10.712) > critical value (5.991)`**\n",
    "\n",
    "- therefore **`reject the null hypothesis`** and conclude that The two categorical variables are dependent. at a 5% level of significance."
   ]
  },
  {
   "cell_type": "markdown",
   "metadata": {},
   "source": [
    "# ***Problem Statement 23:***\n",
    "Each respondent in the Current Population Survey of March 1993 was classified as employed, unemployed, or outside the labor force. The results for men in California age 35- 44 can be cross-tabulated by marital status, as follows:\n",
    "![image](image6.png)\n",
    "Men of different marital status seem to have different distributions of labor force status. Or is this just chance variation? (you may assume the table results from a simple random sample.)"
   ]
  },
  {
   "cell_type": "code",
   "execution_count": 211,
   "metadata": {},
   "outputs": [],
   "source": [
    "import numpy as np\n",
    "import pandas as pd\n",
    "import scipy.stats as stats\n",
    "\n",
    "emp_list = [679, 103, 114]\n",
    "unemp_list = [63, 10, 20]\n",
    "no_list = [42, 18, 25]\n",
    "value =  emp_list  + unemp_list + no_list\n",
    "\n",
    "status = [\"Employed\",\"Employed\",\"Employed\",\"Unemployed\",\"Unemployed\",\"Unemployed\",\"Not in labor fource\",\"Not in labor fource\",\"Not in labor fource\"]\n",
    "marri = [\"Married\",\"Widowes,divorce or separate\",\"Never Married\",\"Married\",\"Widowes,divorce or separate\",\"Never Married\", \"Married\",\"Widowes,divorce or separate\",\"Never Married\"]\n",
    "df = pd.DataFrame({\"Married_status\":marri,\"Job_Status\":status,\"Value\":value})\n"
   ]
  },
  {
   "cell_type": "code",
   "execution_count": 213,
   "metadata": {},
   "outputs": [],
   "source": [
    "table = pd.pivot_table(df, values='Value', index = 'Job_Status', columns= 'Married_status', aggfunc = np.sum, margins=True)               "
   ]
  },
  {
   "cell_type": "code",
   "execution_count": 220,
   "metadata": {},
   "outputs": [],
   "source": [
    "table.rename(columns={'All':'Row_Total'}, inplace = True)\n",
    "table.index = [\"Employed\",\"Not in labor fource\",\"Unemployed\",\"Col_Total\"]"
   ]
  },
  {
   "cell_type": "code",
   "execution_count": 221,
   "metadata": {},
   "outputs": [
    {
     "data": {
      "text/html": [
       "<div>\n",
       "<style scoped>\n",
       "    .dataframe tbody tr th:only-of-type {\n",
       "        vertical-align: middle;\n",
       "    }\n",
       "\n",
       "    .dataframe tbody tr th {\n",
       "        vertical-align: top;\n",
       "    }\n",
       "\n",
       "    .dataframe thead th {\n",
       "        text-align: right;\n",
       "    }\n",
       "</style>\n",
       "<table border=\"1\" class=\"dataframe\">\n",
       "  <thead>\n",
       "    <tr style=\"text-align: right;\">\n",
       "      <th>Married_status</th>\n",
       "      <th>Married</th>\n",
       "      <th>Never Married</th>\n",
       "      <th>Widowes,divorce or separate</th>\n",
       "      <th>Row_Total</th>\n",
       "    </tr>\n",
       "  </thead>\n",
       "  <tbody>\n",
       "    <tr>\n",
       "      <th>Employed</th>\n",
       "      <td>679</td>\n",
       "      <td>114</td>\n",
       "      <td>103</td>\n",
       "      <td>896</td>\n",
       "    </tr>\n",
       "    <tr>\n",
       "      <th>Not in labor fource</th>\n",
       "      <td>42</td>\n",
       "      <td>25</td>\n",
       "      <td>18</td>\n",
       "      <td>85</td>\n",
       "    </tr>\n",
       "    <tr>\n",
       "      <th>Unemployed</th>\n",
       "      <td>63</td>\n",
       "      <td>20</td>\n",
       "      <td>10</td>\n",
       "      <td>93</td>\n",
       "    </tr>\n",
       "    <tr>\n",
       "      <th>Col_Total</th>\n",
       "      <td>784</td>\n",
       "      <td>159</td>\n",
       "      <td>131</td>\n",
       "      <td>1074</td>\n",
       "    </tr>\n",
       "  </tbody>\n",
       "</table>\n",
       "</div>"
      ],
      "text/plain": [
       "Married_status       Married  Never Married  Widowes,divorce or separate  \\\n",
       "Employed                 679            114                          103   \n",
       "Not in labor fource       42             25                           18   \n",
       "Unemployed                63             20                           10   \n",
       "Col_Total                784            159                          131   \n",
       "\n",
       "Married_status       Row_Total  \n",
       "Employed                   896  \n",
       "Not in labor fource         85  \n",
       "Unemployed                  93  \n",
       "Col_Total                 1074  "
      ]
     },
     "execution_count": 221,
     "metadata": {},
     "output_type": "execute_result"
    }
   ],
   "source": [
    "table"
   ]
  },
  {
   "cell_type": "markdown",
   "metadata": {},
   "source": [
    "### Chi-Square test of independence \n",
    "- To Test:\n",
    "   - H0 : The two categorical variables are independent.\n",
    "   - H1 : The two categorical variables are dependent."
   ]
  },
  {
   "cell_type": "markdown",
   "metadata": {},
   "source": [
    "### Step 1: Observed frequencies\n",
    "- Our data are summarized in the contingency table below reporting the number of people in each subgroup, totals by row, by column and the grand total:"
   ]
  },
  {
   "cell_type": "code",
   "execution_count": 222,
   "metadata": {},
   "outputs": [
    {
     "data": {
      "text/html": [
       "<div>\n",
       "<style scoped>\n",
       "    .dataframe tbody tr th:only-of-type {\n",
       "        vertical-align: middle;\n",
       "    }\n",
       "\n",
       "    .dataframe tbody tr th {\n",
       "        vertical-align: top;\n",
       "    }\n",
       "\n",
       "    .dataframe thead th {\n",
       "        text-align: right;\n",
       "    }\n",
       "</style>\n",
       "<table border=\"1\" class=\"dataframe\">\n",
       "  <thead>\n",
       "    <tr style=\"text-align: right;\">\n",
       "      <th>Married_status</th>\n",
       "      <th>Married</th>\n",
       "      <th>Never Married</th>\n",
       "      <th>Widowes,divorce or separate</th>\n",
       "    </tr>\n",
       "  </thead>\n",
       "  <tbody>\n",
       "    <tr>\n",
       "      <th>Employed</th>\n",
       "      <td>679</td>\n",
       "      <td>114</td>\n",
       "      <td>103</td>\n",
       "    </tr>\n",
       "    <tr>\n",
       "      <th>Not in labor fource</th>\n",
       "      <td>42</td>\n",
       "      <td>25</td>\n",
       "      <td>18</td>\n",
       "    </tr>\n",
       "    <tr>\n",
       "      <th>Unemployed</th>\n",
       "      <td>63</td>\n",
       "      <td>20</td>\n",
       "      <td>10</td>\n",
       "    </tr>\n",
       "  </tbody>\n",
       "</table>\n",
       "</div>"
      ],
      "text/plain": [
       "Married_status       Married  Never Married  Widowes,divorce or separate\n",
       "Employed                 679            114                          103\n",
       "Not in labor fource       42             25                           18\n",
       "Unemployed                63             20                           10"
      ]
     },
     "execution_count": 222,
     "metadata": {},
     "output_type": "execute_result"
    }
   ],
   "source": [
    "obs_table = table.iloc[0:3,0:3]   \n",
    "obs_table"
   ]
  },
  {
   "cell_type": "markdown",
   "metadata": {},
   "source": [
    "### Step 2: Expected frequencies\n",
    "- Remember that for the Chi-square test of independence we need to determine whether the observed counts are significantly different from the counts that we would expect if there was no association between the two variables. \n",
    "- We have the observed counts (see the table above), so we now need to compute the expected counts in the case the variables were independent. \n",
    "- These expected frequencies are computed for each subgroup one by one with the following formula:\n",
    "\n",
    " \n",
    "![image](https://journal.ahima.org/wp-content/uploads/2015/10/Expected-Cell-Frequency-Equation.png)"
   ]
  },
  {
   "cell_type": "code",
   "execution_count": 223,
   "metadata": {},
   "outputs": [],
   "source": [
    "exp_freq =  np.outer(table['Row_Total'][0:3], table.loc[\"Col_Total\"][0:3]) / 1074\n",
    "exp_freq = pd.DataFrame(exp_freq)\n",
    "exp_freq.columns = [\"Married\",\"Never Married\",\"Widowes,divorce or separate\"]\n",
    "exp_freq.index = [\"Employed\",\"Not in labor fource\",\"Unemployed\"]"
   ]
  },
  {
   "cell_type": "markdown",
   "metadata": {},
   "source": [
    "- where obs. correspond to observations. Given our table of observed frequencies above, below is the table of the expected frequencies computed for each subgroup:\n"
   ]
  },
  {
   "cell_type": "code",
   "execution_count": 224,
   "metadata": {},
   "outputs": [
    {
     "data": {
      "text/html": [
       "<div>\n",
       "<style scoped>\n",
       "    .dataframe tbody tr th:only-of-type {\n",
       "        vertical-align: middle;\n",
       "    }\n",
       "\n",
       "    .dataframe tbody tr th {\n",
       "        vertical-align: top;\n",
       "    }\n",
       "\n",
       "    .dataframe thead th {\n",
       "        text-align: right;\n",
       "    }\n",
       "</style>\n",
       "<table border=\"1\" class=\"dataframe\">\n",
       "  <thead>\n",
       "    <tr style=\"text-align: right;\">\n",
       "      <th></th>\n",
       "      <th>Married</th>\n",
       "      <th>Never Married</th>\n",
       "      <th>Widowes,divorce or separate</th>\n",
       "    </tr>\n",
       "  </thead>\n",
       "  <tbody>\n",
       "    <tr>\n",
       "      <th>Employed</th>\n",
       "      <td>654.063315</td>\n",
       "      <td>132.648045</td>\n",
       "      <td>109.288641</td>\n",
       "    </tr>\n",
       "    <tr>\n",
       "      <th>Not in labor fource</th>\n",
       "      <td>62.048417</td>\n",
       "      <td>12.583799</td>\n",
       "      <td>10.367784</td>\n",
       "    </tr>\n",
       "    <tr>\n",
       "      <th>Unemployed</th>\n",
       "      <td>67.888268</td>\n",
       "      <td>13.768156</td>\n",
       "      <td>11.343575</td>\n",
       "    </tr>\n",
       "  </tbody>\n",
       "</table>\n",
       "</div>"
      ],
      "text/plain": [
       "                        Married  Never Married  Widowes,divorce or separate\n",
       "Employed             654.063315     132.648045                   109.288641\n",
       "Not in labor fource   62.048417      12.583799                    10.367784\n",
       "Unemployed            67.888268      13.768156                    11.343575"
      ]
     },
     "execution_count": 224,
     "metadata": {},
     "output_type": "execute_result"
    }
   ],
   "source": [
    "exp_freq"
   ]
  },
  {
   "cell_type": "markdown",
   "metadata": {},
   "source": [
    "### Step 3: Test statistic\n",
    "- We have the observed and expected frequencies. We now need to compare these frequencies to determine if they differ significantly. The difference between the observed and expected frequencies, referred as the test statistic (or t-stat) and denoted χ2, is computed as follows:\n",
    "![image](https://www.thoughtco.com/thmb/ns7d4DC1AqVGme2p1-WYqC26r_s=/768x0/filters:no_upscale():max_bytes(150000):strip_icc()/latex_ac74fec08532861eb5f8b87226ebf396-5c59a6fcc9e77c00016b4195.jpg)"
   ]
  },
  {
   "cell_type": "code",
   "execution_count": 225,
   "metadata": {},
   "outputs": [
    {
     "name": "stdout",
     "output_type": "stream",
     "text": [
      "Chi Squar :  31.613\n"
     ]
    }
   ],
   "source": [
    "chi_squared_stat = (((obs_table-exp_freq)**2) / exp_freq).sum().sum()\n",
    "\n",
    "print(\"Chi Squar : \",round(chi_squared_stat, 3))"
   ]
  },
  {
   "cell_type": "markdown",
   "metadata": {},
   "source": [
    "### Step 4: Critical value\n",
    "- The test statistic alone is not enough to conclude for independence or dependence between the two variables. As previously mentioned, this test statistic must be compared to a critical value to determine whether the difference is large or small. \n",
    "- The critical value can be found in the statistical table of the Chi-square distribution and depends on the significance level, denoted αα, and the degrees of freedom, denoted dfdf. The significance level is usually set equal to 5%. The degrees of freedom for a Chi-square test of independence is found as follow:\n",
    "\n",
    "   **`df = (number of rows − 1) ⋅ (number of columns − 1)`**\n",
    "\n",
    "- In our example, the degrees of freedom is thus \n"
   ]
  },
  {
   "cell_type": "code",
   "execution_count": 226,
   "metadata": {},
   "outputs": [
    {
     "name": "stdout",
     "output_type": "stream",
     "text": [
      "Degrees of Freedom:  4\n"
     ]
    }
   ],
   "source": [
    "df = ( 3 - 1) * ( 3 - 1 )\n",
    "print(\"Degrees of Freedom: \" ,df)"
   ]
  },
  {
   "cell_type": "markdown",
   "metadata": {},
   "source": [
    "- since there are three rows and three columns in the contingency table \n"
   ]
  },
  {
   "cell_type": "code",
   "execution_count": 228,
   "metadata": {},
   "outputs": [
    {
     "name": "stdout",
     "output_type": "stream",
     "text": [
      "Critical value :  9.488\n",
      "P value        :   0.0\n",
      "\n"
     ]
    }
   ],
   "source": [
    "cri_val = stats.chi2.ppf(q = 0.95, df = 4)   # 95% confidence\n",
    "print(\"Critical value : \",round(cri_val, 3))\n",
    "\n",
    "p_value = 1 - stats.chi2.cdf(x = chi_squared_stat, df = 4)\n",
    "print(\"P value        :  \",round(p_value,4))\n",
    "print()"
   ]
  },
  {
   "cell_type": "markdown",
   "metadata": {},
   "source": [
    "- We now have all the necessary information to find the critical value in the Chi-square table (α = 0.05 and df = 4). \n",
    "- The critical value is `9.488`"
   ]
  },
  {
   "cell_type": "markdown",
   "metadata": {},
   "source": [
    "#### Step 5: Conclusion and interpretation\n",
    "- Now that we have the test statistic and the critical value, we can compare them to check whether the null hypothesis of independence of the variables is rejected or not. In our example,\n",
    "\n",
    "    **`test statistic (31.613) > critical value (9.488)`**\n",
    "\n",
    "- therefore **`reject the null hypothesis`** and conclude that  The two categorical variables are dependent. at a 5% level of significance."
   ]
  },
  {
   "cell_type": "code",
   "execution_count": null,
   "metadata": {},
   "outputs": [],
   "source": []
  }
 ],
 "metadata": {
  "kernelspec": {
   "display_name": "Python 3",
   "language": "python",
   "name": "python3"
  },
  "language_info": {
   "codemirror_mode": {
    "name": "ipython",
    "version": 3
   },
   "file_extension": ".py",
   "mimetype": "text/x-python",
   "name": "python",
   "nbconvert_exporter": "python",
   "pygments_lexer": "ipython3",
   "version": "3.8.1"
  }
 },
 "nbformat": 4,
 "nbformat_minor": 4
}
