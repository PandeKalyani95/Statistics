{
 "cells": [
  {
   "cell_type": "code",
   "execution_count": 1,
   "metadata": {},
   "outputs": [],
   "source": [
    "import numpy as np\n",
    "from scipy import stats\n",
    "import math\n",
    "import statistics as st\n",
    "import os\n",
    "import sys"
   ]
  },
  {
   "cell_type": "markdown",
   "metadata": {},
   "source": [
    "# ***Problem Statement 1:***\n",
    "- The marks awarded for an assignment set for a Year 8 class of 20 students were as follows:\n",
    "     - `6 7 5 7 7 8 7 6 9 7 4 10 6 8 8 9 5 6 4 8`\n",
    "- **Calculate the mean, median, mode and standard deviation.**"
   ]
  },
  {
   "cell_type": "markdown",
   "metadata": {},
   "source": [
    "#### **`Solution :- `**"
   ]
  },
  {
   "cell_type": "code",
   "execution_count": 2,
   "metadata": {},
   "outputs": [],
   "source": [
    "marks = np.asarray([ 6, 7, 5, 7, 7, 8, 7, 6, 9, 7, 4, 10, 6, 8, 8, 9, 5, 6, 4, 8 ])"
   ]
  },
  {
   "cell_type": "code",
   "execution_count": 3,
   "metadata": {},
   "outputs": [],
   "source": [
    "def stats_calculation(vari, val): \n",
    "    print(\"The mean of the {0}   : {1} \".format(vari, round(val.mean(),2)))\n",
    "    print(\"The median of the {0} : {1} \".format(vari, np.median(val)))\n",
    "    print(\"The mode of the {0}   : {1} \".format(vari, st.mode(val)))\n",
    "    print(\"The SD of the {0}     : {1} \".format(vari, round(val.std(), 2)))  "
   ]
  },
  {
   "cell_type": "code",
   "execution_count": 4,
   "metadata": {},
   "outputs": [
    {
     "name": "stdout",
     "output_type": "stream",
     "text": [
      "The mean of the Marks   : 6.85 \n",
      "The median of the Marks : 7.0 \n",
      "The mode of the Marks   : 7 \n",
      "The SD of the Marks     : 1.59 \n"
     ]
    }
   ],
   "source": [
    "stats_calculation(\"Marks\", marks)"
   ]
  },
  {
   "cell_type": "markdown",
   "metadata": {},
   "source": [
    "# ***Problem Statement 2:***\n",
    "- The number of calls from motorists per day for roadside service was recorded for a particular month:\n",
    "     - `28, 122, 217, 130, 120, 86, 80, 90, 140, 120, 70, 40, 145, 113, 90, 68, 174, 194, 170, 100, 75, 104, 97, 75, 123, 100, 75, 104, 97, 75, 123, 100, 89, 120, 109`\n",
    "- **Calculate the mean, median, mode and standard deviation.**"
   ]
  },
  {
   "cell_type": "markdown",
   "metadata": {},
   "source": [
    "#### **`Solution :- `**"
   ]
  },
  {
   "cell_type": "code",
   "execution_count": 5,
   "metadata": {},
   "outputs": [],
   "source": [
    "records = np.asarray([28, 122, 217, 130, 120, 86, 80, 90, 140, 120, 70, 40, 145, 113, 90, 68, 174, 194, 170,100, 75, 104, 97, 75,123, 100, 75, 104, 97, 75, 123, 100, 89, 120, 109])"
   ]
  },
  {
   "cell_type": "code",
   "execution_count": 6,
   "metadata": {},
   "outputs": [
    {
     "name": "stdout",
     "output_type": "stream",
     "text": [
      "The mean of the Call Records   : 107.51 \n",
      "The median of the Call Records : 100.0 \n",
      "The mode of the Call Records   : 75 \n",
      "The SD of the Call Records     : 38.77 \n"
     ]
    }
   ],
   "source": [
    "stats_calculation(\"Call Records\", records)"
   ]
  },
  {
   "cell_type": "markdown",
   "metadata": {},
   "source": [
    "# ***Problem Statement 3:***\n",
    "- The number of times I go to the gym in weekdays, are given below along with its associated probability:\n",
    "   - `x = 0, 1, 2, 3, 4, 5`\n",
    "   - `f(x) = 0.09, 0.15, 0.40, 0.25, 0.10, 0.01`\n",
    "- **Calculate the mean no. of workouts in a week. Also evaluate the variance involved in it.**"
   ]
  },
  {
   "cell_type": "markdown",
   "metadata": {},
   "source": [
    "#### **`Solution :- `**"
   ]
  },
  {
   "cell_type": "code",
   "execution_count": 7,
   "metadata": {},
   "outputs": [],
   "source": [
    "x = np.array([ 0, 1, 2, 3, 4, 5 ])\n",
    "f_x = np.array([ 0.09, 0.15, 0.40, 0.25, 0.10, 0.01 ]) "
   ]
  },
  {
   "cell_type": "code",
   "execution_count": 8,
   "metadata": {},
   "outputs": [],
   "source": [
    "x.reshape((1,-1))\n",
    "f_x.reshape((-1,1))\n",
    "\n",
    "mean = np.dot(x, f_x)\n",
    "var_of_x = (x - mean)**2\n",
    "var = np.dot(var_of_x.reshape(1, -1), f_x)"
   ]
  },
  {
   "cell_type": "code",
   "execution_count": 9,
   "metadata": {},
   "outputs": [
    {
     "name": "stdout",
     "output_type": "stream",
     "text": [
      "Mean no. of workouts :  2.15\n",
      "Variance of workouts :  1.2275\n"
     ]
    }
   ],
   "source": [
    "print(\"Mean no. of workouts : \",mean)\n",
    "print(\"Variance of workouts : \",var[0])"
   ]
  },
  {
   "cell_type": "markdown",
   "metadata": {},
   "source": [
    "# ***Problem Statement 4:***\n",
    "- Let the continuous random variable D denote the diameter of the hole drilled in an aluminum sheet. The target diameter to be achieved is 12.5mm. Random disturbances in the process often result in inaccuracy. Historical data shows that the distribution of D can be modelled by the `PDF (d) = 20e−20(d−12.5)`, `d ≥ 12.5`. If a part with `diameter > 12.6 mm` needs to be scrapped, \n",
    "- **what is the proportion of those parts? What is the CDF when the diameter is of 11 mm? What is your conclusion regarding the proportion of scraps?**"
   ]
  },
  {
   "cell_type": "markdown",
   "metadata": {},
   "source": [
    "#### **`Solution :- `**"
   ]
  },
  {
   "cell_type": "markdown",
   "metadata": {},
   "source": [
    "- **Given**:\n",
    "     - PDF (𝑑) = 20𝑒−20(𝑑−12.5)\n",
    "     - 𝑑 ≥ 12.5"
   ]
  },
  {
   "cell_type": "code",
   "execution_count": 11,
   "metadata": {},
   "outputs": [
    {
     "name": "stdout",
     "output_type": "stream",
     "text": [
      "Proportion of Parts need to scrapped when d > 12.6mm is : \n",
      "0.1353\n"
     ]
    },
    {
     "name": "stderr",
     "output_type": "stream",
     "text": [
      "<ipython-input-11-1be2443b1a61>:3: RuntimeWarning: overflow encountered in exp\n",
      "  PDF = lambda d:20*(np.exp((-20*(d - 12.5))))\n"
     ]
    }
   ],
   "source": [
    "from scipy import integrate\n",
    "\n",
    "PDF = lambda d:20*(np.exp((-20*(d - 12.5))))\n",
    "x = 12.6\n",
    "P_x = integrate.quad(PDF, 12.6, np.inf)\n",
    "y = 11\n",
    "CDF = integrate.quad(PDF, -np.inf, y)\n",
    "print(\"Proportion of Parts need to scrapped when d > 12.6mm is : \")\n",
    "print(round(P_x[0], 4))\n"
   ]
  },
  {
   "cell_type": "code",
   "execution_count": 12,
   "metadata": {},
   "outputs": [
    {
     "name": "stdout",
     "output_type": "stream",
     "text": [
      "CDF when d = 11 mm is                 :  inf\n",
      "Proportion of CDF when d > 12.5 mm is : 1.0000000000000024\n"
     ]
    }
   ],
   "source": [
    "print(\"CDF when d = 11 mm is                 : \", CDF[0])\n",
    "print(\"Proportion of CDF when d > 12.5 mm is :\", integrate.quad(PDF,12.5,np.inf)[0])"
   ]
  },
  {
   "cell_type": "markdown",
   "metadata": {},
   "source": [
    "- **Conclusion**\n",
    "  - It can be concluded that the function is only valid when \n",
    "    - `d >= 12.5` \n",
    "  - When d < 12.5, \n",
    "    - The part can be reworked to 12.5 so `no scrap` in this case.\n",
    "  - PDF is not defined for d = 11"
   ]
  },
  {
   "cell_type": "markdown",
   "metadata": {},
   "source": [
    "# ***Problem Statement 5:***\n",
    "\n",
    "- A company manufactures LED bulbs with a faulty rate of 30%. If I randomly select 6 chosen LEDs, what is the probability of having 2 faulty LEDs in my sample?\n",
    "- **Calculate the average value of this process. Also evaluate the standard deviation associated with it.**"
   ]
  },
  {
   "cell_type": "markdown",
   "metadata": {},
   "source": [
    "#### **`Solution :- `**"
   ]
  },
  {
   "cell_type": "markdown",
   "metadata": {},
   "source": [
    "#### Defining parameters"
   ]
  },
  {
   "cell_type": "code",
   "execution_count": 13,
   "metadata": {},
   "outputs": [],
   "source": [
    "P = 0.3 \n",
    "Q = 0.7    # 1-P\n",
    "n = 6      # total no. of trials\n",
    "k = 2      # no. of trail that will be successed=\n",
    "#size = 1000  # Total number of random samples"
   ]
  },
  {
   "cell_type": "markdown",
   "metadata": {},
   "source": [
    "- why we take random samples(z) ?\n",
    "   - When we analyse data as a M.L engineer we must ensure how the uncertanity introduced by random samples affects our datasets .\n",
    "   - We also try to evaluate how data would be affected by random error.\n"
   ]
  },
  {
   "cell_type": "markdown",
   "metadata": {},
   "source": [
    "#### Python implementation and plotting"
   ]
  },
  {
   "cell_type": "code",
   "execution_count": 14,
   "metadata": {},
   "outputs": [
    {
     "data": {
      "text/plain": [
       "<matplotlib.axes._subplots.AxesSubplot at 0x157d64b6df0>"
      ]
     },
     "execution_count": 14,
     "metadata": {},
     "output_type": "execute_result"
    },
    {
     "data": {
      "image/png": "[encoded data removed]",
      "text/plain": [
       "<Figure size 432x288 with 1 Axes>"
      ]
     },
     "metadata": {
      "needs_background": "light"
     },
     "output_type": "display_data"
    }
   ],
   "source": [
    "from scipy.stats import binom\n",
    "import matplotlib.pyplot as plt\n",
    "import seaborn as sns\n",
    "\n",
    "binomial_data = binom.rvs(n = n, p = P, size = 1000)\n",
    "sns.distplot(binomial_data, hist = True, kde = True, color = \"blue\")"
   ]
  },
  {
   "cell_type": "markdown",
   "metadata": {},
   "source": [
    "- Probability of getting faulty out of 6 trials"
   ]
  },
  {
   "cell_type": "code",
   "execution_count": 15,
   "metadata": {},
   "outputs": [
    {
     "name": "stdout",
     "output_type": "stream",
     "text": [
      "Probability : 0.3241\n",
      "CDF         : 0.7443\n"
     ]
    }
   ],
   "source": [
    "from scipy.stats import binom\n",
    "import matplotlib.pyplot as plt\n",
    "import seaborn as sns\n",
    "\n",
    "prob = binom.pmf(k, n, P)  \n",
    "print(\"Probability :\",round(prob,4 ))\n",
    "cdf = binom.cdf(k = k, n = n, p = P)      # Cumulative distribution function\n",
    "print(\"CDF         :\",round(cdf, 4))"
   ]
  },
  {
   "cell_type": "markdown",
   "metadata": {},
   "source": [
    "#### Calculate mean and standard deviation;\n",
    "    - mean = np  \n",
    "    - Standard Deviation = sqrt(npq)"
   ]
  },
  {
   "cell_type": "code",
   "execution_count": 20,
   "metadata": {},
   "outputs": [
    {
     "name": "stdout",
     "output_type": "stream",
     "text": [
      "mean           =  1.7999999999999998\n",
      "variance       =  1.2599999999999998\n",
      "Std. Deviation =  1.1224972160321822\n"
     ]
    }
   ],
   "source": [
    "from scipy.stats import binom \n",
    "import math \n",
    "\n",
    "mean, var = binom.stats(n, P) \n",
    "\n",
    "print(\"mean           = \",str(mean)) \n",
    "print(\"variance       = \",str(var))\n",
    "print(\"Std. Deviation = \",math.sqrt(var))"
   ]
  },
  {
   "cell_type": "markdown",
   "metadata": {},
   "source": [
    "# ***Problem Statement 6:***\n",
    "\n",
    "- Gaurav and Barakha are both preparing for entrance exams. Gaurav attempts to solve 8 questions per day with a correction rate of 75%, while Barakha averages around 12 questions per day with a correction rate of 45%. \n",
    "- **What is the probability that each of them will solve 5 questions correctly? What happens in cases of 4 and 6 correct solutions? What do you infer from it? What are the two main governing factors affecting their ability to solve questions correctly? Give a pictorial representation of the same to validate your answer.**"
   ]
  },
  {
   "cell_type": "markdown",
   "metadata": {},
   "source": [
    "#### **`Solution :- `**"
   ]
  },
  {
   "cell_type": "code",
   "execution_count": 21,
   "metadata": {},
   "outputs": [
    {
     "name": "stdout",
     "output_type": "stream",
     "text": [
      "Prob. of each of them solving 5 que. correctly   : 0.05\n",
      "Prob. of each of them solving 4,6 que. correctly : 0.02\n"
     ]
    }
   ],
   "source": [
    "from scipy.stats import binom\n",
    "import numpy as np\n",
    "\n",
    "que_5 = binom.pmf(5,8,0.75)*binom.pmf(5,12,0.45)\n",
    "que_4_6 = binom.pmf(4,8,0.75)*binom.pmf(6,12,0.45)\n",
    "print(\"Prob. of each of them solving 5 que. correctly   :\",round(que_5, 2))\n",
    "print(\"Prob. of each of them solving 4,6 que. correctly :\",round(que_4_6, 2))\n"
   ]
  },
  {
   "cell_type": "markdown",
   "metadata": {},
   "source": [
    "**Following graphs show their correction rates individually and combined**"
   ]
  },
  {
   "cell_type": "code",
   "execution_count": 22,
   "metadata": {},
   "outputs": [],
   "source": [
    "def binom_plot(n,p,):\n",
    "    fig,ax = plt.subplots(1,1)\n",
    "    x = np.arange(binom.ppf(0.01, n, p),binom.ppf(0.99, n, p))\n",
    "    ax.plot(x, binom.pmf(x, n, p), 'bo', ms = 8, label='binom pmf')\n",
    "    ax.vlines(x, 0, binom.pmf(x, n, p), colors='b', lw=5, alpha=0.5)"
   ]
  },
  {
   "cell_type": "markdown",
   "metadata": {},
   "source": [
    "- `for Gaurav`"
   ]
  },
  {
   "cell_type": "code",
   "execution_count": 23,
   "metadata": {},
   "outputs": [
    {
     "data": {
      "image/png": "[encoded data removed]",
      "text/plain": [
       "<Figure size 432x288 with 1 Axes>"
      ]
     },
     "metadata": {
      "needs_background": "light"
     },
     "output_type": "display_data"
    }
   ],
   "source": [
    "#Gaurav\n",
    "binom_plot(8, 0.75)"
   ]
  },
  {
   "cell_type": "markdown",
   "metadata": {},
   "source": [
    "- `for Barakha`"
   ]
  },
  {
   "cell_type": "code",
   "execution_count": 24,
   "metadata": {},
   "outputs": [
    {
     "data": {
      "image/png": "[encoded data removed]",
      "text/plain": [
       "<Figure size 432x288 with 1 Axes>"
      ]
     },
     "metadata": {
      "needs_background": "light"
     },
     "output_type": "display_data"
    }
   ],
   "source": [
    "binom_plot(12, 0.45)"
   ]
  },
  {
   "cell_type": "code",
   "execution_count": 25,
   "metadata": {},
   "outputs": [
    {
     "data": {
      "image/png": "[encoded data removed]",
      "text/plain": [
       "<Figure size 432x288 with 1 Axes>"
      ]
     },
     "metadata": {
      "needs_background": "light"
     },
     "output_type": "display_data"
    }
   ],
   "source": [
    "fig,ax=plt.subplots(1,1)\n",
    "x = np.arange(1,11)\n",
    "ax.plot(x, binom.pmf(x,8,0.75)*binom.pmf(x,12,0.45), 'bo', ms=8, label='binom pmf')\n",
    "ax.vlines(x, 0, binom.pmf(x,8,0.75)*binom.pmf(x,12,0.45), colors='b', lw=5, alpha=0.5)\n",
    "plt.show()\n",
    "# maximum combined probability observed at 6 question"
   ]
  },
  {
   "cell_type": "code",
   "execution_count": 26,
   "metadata": {},
   "outputs": [
    {
     "data": {
      "text/plain": [
       "0.04619989057299213"
      ]
     },
     "execution_count": 26,
     "metadata": {},
     "output_type": "execute_result"
    }
   ],
   "source": [
    "from scipy.stats import binom\n",
    "binom.pmf(5, 8, 0.75)*binom.pmf(5, 12, 0.45)"
   ]
  },
  {
   "cell_type": "markdown",
   "metadata": {},
   "source": [
    "# ***Problem Statement 7:***\n",
    "\n",
    "- Customers arrive at a rate of 72 per hour to my shop. What is the probability of k customers arriving in 4 minutes?\n",
    "   - a) 5 customers, \n",
    "   - b) not more than 3 customers, \n",
    "   - c) more than 3 customers. \n",
    "- **Give a pictorial representation of the same to validate your answer.**"
   ]
  },
  {
   "cell_type": "markdown",
   "metadata": {},
   "source": [
    "#### **`Solution :- `**"
   ]
  },
  {
   "cell_type": "code",
   "execution_count": 27,
   "metadata": {},
   "outputs": [],
   "source": [
    "from scipy.stats import poisson"
   ]
  },
  {
   "cell_type": "markdown",
   "metadata": {},
   "source": [
    "- We need to calculate average number of customers arriving per 4 minutes\n",
    "- 72/60 customers come per minute"
   ]
  },
  {
   "cell_type": "code",
   "execution_count": 28,
   "metadata": {},
   "outputs": [],
   "source": [
    "mu = 4 * (72 / 60) #customers come per 4 minutes"
   ]
  },
  {
   "cell_type": "markdown",
   "metadata": {},
   "source": [
    "- **(a):** The probability of arriving 5 cutomers in 4 minutes is "
   ]
  },
  {
   "cell_type": "code",
   "execution_count": 29,
   "metadata": {},
   "outputs": [
    {
     "name": "stdout",
     "output_type": "stream",
     "text": [
      "Answer:  0.175\n"
     ]
    }
   ],
   "source": [
    "ans1 = poisson.pmf(k = 5, mu = mu)\n",
    "print(\"Answer: \", round(ans1, 3))"
   ]
  },
  {
   "cell_type": "markdown",
   "metadata": {},
   "source": [
    "- **(b):** The probability of arriving not more than 3 customers in 4 minutes is\n"
   ]
  },
  {
   "cell_type": "code",
   "execution_count": 30,
   "metadata": {},
   "outputs": [
    {
     "name": "stdout",
     "output_type": "stream",
     "text": [
      "Answer:  0.152\n"
     ]
    }
   ],
   "source": [
    "ans2 = poisson.pmf(k = 3, mu = mu)\n",
    "print(\"Answer: \", round(ans2, 3))"
   ]
  },
  {
   "cell_type": "markdown",
   "metadata": {},
   "source": [
    "- **(c):** The Probability of more than 3 customers arriving in 4 minutes is "
   ]
  },
  {
   "cell_type": "code",
   "execution_count": 31,
   "metadata": {},
   "outputs": [
    {
     "name": "stdout",
     "output_type": "stream",
     "text": [
      "Answer:  0.706\n"
     ]
    }
   ],
   "source": [
    "ans3 = 1-poisson.cdf(k = 3, mu = mu)\n",
    "print(\"Answer: \", round(ans3, 3))"
   ]
  },
  {
   "cell_type": "code",
   "execution_count": 32,
   "metadata": {},
   "outputs": [],
   "source": [
    "import matplotlib.pyplot as plt"
   ]
  },
  {
   "cell_type": "code",
   "execution_count": 33,
   "metadata": {},
   "outputs": [
    {
     "data": {
      "text/plain": [
       "Text(0, 0.5, 'Probability')"
      ]
     },
     "execution_count": 33,
     "metadata": {},
     "output_type": "execute_result"
    },
    {
     "data": {
      "image/png": "[encoded data removed]",
      "text/plain": [
       "<Figure size 720x360 with 1 Axes>"
      ]
     },
     "metadata": {
      "needs_background": "light"
     },
     "output_type": "display_data"
    }
   ],
   "source": [
    "x = list(range(0, 10))\n",
    "fig, ax = plt.subplots(1, 1, figsize = (10, 5))\n",
    "ax.plot(x, poisson.pmf(x,mu), 'bo', ms = 8, label = 'poisson pmf')\n",
    "ax.vlines(x, 0, poisson.pmf(x, mu), colors ='r', lw = 5, alpha = 0.5)\n",
    "plt.xlabel('Number of customers')\n",
    "plt.ylabel('Probability')"
   ]
  },
  {
   "cell_type": "markdown",
   "metadata": {},
   "source": [
    "# ***Problem Statement 8***\n",
    "\n",
    "- I work as a data analyst in Aeon Learning Pvt. Ltd. After analyzing data, I make reports, where I have the efficiency of entering 77 words per minute with 6 errors per hour.\n",
    "  - What is the probability that I will commit 2 errors in a 455-word financial report?\n",
    "  - What happens when the no. of words increases/decreases (in case of 1000 words, 255 words)?\n",
    "  - How is the λ affected?\n",
    "  - How does it influence the PMF?\n",
    "- **Give a pictorial representation of the same to validate your answer.**"
   ]
  },
  {
   "cell_type": "markdown",
   "metadata": {},
   "source": [
    "#### **`Solution :- `**"
   ]
  },
  {
   "cell_type": "markdown",
   "metadata": {},
   "source": [
    "\n",
    "  - Rate of entering = 77 per minute\n",
    "  - error rate = 6/hour = 0.1 per minute\n",
    "  - No of errors per word = 0.1 / 77"
   ]
  },
  {
   "cell_type": "code",
   "execution_count": 34,
   "metadata": {},
   "outputs": [],
   "source": [
    "from scipy.stats import poisson\n",
    "\n",
    "unit_mu=0.1 / 77\n",
    "def mu(n):\n",
    "    return n * unit_mu                                                                        "
   ]
  },
  {
   "cell_type": "code",
   "execution_count": 35,
   "metadata": {},
   "outputs": [
    {
     "name": "stdout",
     "output_type": "stream",
     "text": [
      "The pob. of commiting 2 errors in 455 words financial report is  : 0.1\n",
      "The pob. of commiting 2 errors in 1000 words financial report is : 0.23\n",
      "The pob. of commiting 2 errors in 255 words financial report is  : 0.04\n"
     ]
    }
   ],
   "source": [
    "word_455 = poisson.pmf(2, mu = mu(455))\n",
    "word_1000 = poisson.pmf(2, mu = mu(1000))\n",
    "word_255 = poisson.pmf(2, mu = mu(255))\n",
    "\n",
    "print(\"The pob. of commiting 2 errors in 455 words financial report is  :\",round(word_455, 2))\n",
    "print(\"The pob. of commiting 2 errors in 1000 words financial report is :\",round(word_1000, 2))\n",
    "print(\"The pob. of commiting 2 errors in 255 words financial report is  :\",round(word_255, 2))\n",
    "x = range(100, 1000, 50)\n",
    "mu = [i * unit_mu for i in x]"
   ]
  },
  {
   "cell_type": "code",
   "execution_count": 36,
   "metadata": {},
   "outputs": [
    {
     "data": {
      "image/png": "[encoded data removed]",
      "text/plain": [
       "<Figure size 1080x360 with 1 Axes>"
      ]
     },
     "metadata": {
      "needs_background": "light"
     },
     "output_type": "display_data"
    }
   ],
   "source": [
    "fig,ax = plt.subplots(1,1,figsize=(15,5))\n",
    "ax.plot(x,poisson.pmf(2,mu), 'bo', ms=8, label='poisson pmf')\n",
    "ax.vlines(x,0, poisson.pmf(2,mu), colors='r', lw=5, alpha=0.5)\n",
    "plt.show()\n"
   ]
  },
  {
   "cell_type": "markdown",
   "metadata": {},
   "source": [
    "**As the number of words increase probability of getting errors increases**"
   ]
  },
  {
   "cell_type": "code",
   "execution_count": 37,
   "metadata": {},
   "outputs": [
    {
     "data": {
      "image/png": "[encoded data removed]",
      "text/plain": [
       "<Figure size 1080x360 with 1 Axes>"
      ]
     },
     "metadata": {
      "needs_background": "light"
     },
     "output_type": "display_data"
    }
   ],
   "source": [
    "fig,ax = plt.subplots(1,1,figsize=(15,5))\n",
    "ax.plot(x,mu, 'bo', ms=8, label='poisson pmf')\n",
    "ax.vlines(x,0,mu, colors='g', lw=5, alpha=0.5)\n",
    "plt.show()"
   ]
  },
  {
   "cell_type": "markdown",
   "metadata": {},
   "source": [
    "**Value of mu keeps on increasing with number of words**"
   ]
  },
  {
   "cell_type": "markdown",
   "metadata": {},
   "source": [
    "# ***Problem Statement 9:***\n",
    "\n",
    "- Let the continuous random variable D denote the diameter of the hole drilled in an aluminum sheet. The target diameter to be achieved is 12.5mm. Random disturbances in the process often result in inaccuracy. Historical data shows that the distribution of D can be modelled by the PDF, `f(d) = 20e−20(d−12.5)`, `d ≥ 12.5.` If a part with `diameter > 12.6 mm` needs to be scrapped,\n",
    "- **what is the proportion of those parts? What is the CDF when the diameter is of 11 mm? What is the conclusion of this experiment?**"
   ]
  },
  {
   "cell_type": "markdown",
   "metadata": {},
   "source": [
    "#### **`Solution :- `**"
   ]
  },
  {
   "cell_type": "markdown",
   "metadata": {},
   "source": [
    "- **Given**:\n",
    "     - f(d) = 20e−20(d − 12.5)\n",
    "     - d ≥ 12.5"
   ]
  },
  {
   "cell_type": "code",
   "execution_count": 38,
   "metadata": {},
   "outputs": [
    {
     "name": "stdout",
     "output_type": "stream",
     "text": [
      "Proportion of Parts need to scrapped when d > 12.6mm is : \n",
      "0.1353\n"
     ]
    },
    {
     "name": "stderr",
     "output_type": "stream",
     "text": [
      "<ipython-input-38-a6a931d81bb3>:1: RuntimeWarning: overflow encountered in exp\n",
      "  PDF = lambda d:20*(np.exp((-20*(d - 12.5))))\n"
     ]
    }
   ],
   "source": [
    "\n",
    "PDF = lambda d:20*(np.exp((-20*(d - 12.5))))\n",
    "x = 12.6\n",
    "P_x = integrate.quad(PDF, 12.6, np.inf)\n",
    "y = 11\n",
    "CDF = integrate.quad(PDF, -np.inf, y)\n",
    "print(\"Proportion of Parts need to scrapped when d > 12.6mm is : \")\n",
    "print(round(P_x[0], 4))\n"
   ]
  },
  {
   "cell_type": "code",
   "execution_count": 39,
   "metadata": {},
   "outputs": [
    {
     "name": "stdout",
     "output_type": "stream",
     "text": [
      "CDF when d = 11 mm is                 :  inf\n",
      "Proportion of CDF when d > 12.5 mm is : 1.0000000000000024\n"
     ]
    }
   ],
   "source": [
    "print(\"CDF when d = 11 mm is                 : \", CDF[0])\n",
    "print(\"Proportion of CDF when d > 12.5 mm is :\", integrate.quad(PDF,12.5,np.inf)[0])"
   ]
  },
  {
   "cell_type": "markdown",
   "metadata": {},
   "source": [
    "- **Conclusion**\n",
    "  - It can be concluded that the function is only valid when \n",
    "    - `d >= 12.5` \n",
    "  - When d < 12.5, \n",
    "    - The part can be reworked to 12.5 so `no scrap` in this case.\n",
    "  - PDF is not defined for d = 11"
   ]
  },
  {
   "cell_type": "markdown",
   "metadata": {},
   "source": [
    "# ***Problem Statement 10:***\n",
    "\n",
    "- Please compute the following:\n",
    "  - a) P(Z > 1.26), . P(Z < −0.86), P(Z > −1.37), P(−1.25 < Z < 0.37), . P(Z ≤ −4.6)\n",
    "  - b) Find the value z such that P(Z > z) = 0.05\n",
    "  - c) Find the value of z such that P(−z < Z < z) = 0.99"
   ]
  },
  {
   "cell_type": "markdown",
   "metadata": {},
   "source": [
    "#### **`Solution :- `**"
   ]
  },
  {
   "cell_type": "code",
   "execution_count": 40,
   "metadata": {},
   "outputs": [],
   "source": [
    "from scipy.stats import norm\n",
    "def P(z,b=-np.inf) :\n",
    "    return integrate.quad(norm.pdf,b,z)[0]"
   ]
  },
  {
   "cell_type": "markdown",
   "metadata": {},
   "source": [
    "- **a.1)** \n",
    "   - `P(Z > 1.26)` ?"
   ]
  },
  {
   "cell_type": "code",
   "execution_count": 41,
   "metadata": {},
   "outputs": [
    {
     "name": "stdout",
     "output_type": "stream",
     "text": [
      "P(Z > 1.26) =  0.1038\n"
     ]
    }
   ],
   "source": [
    "print('P(Z > 1.26) = ', round((1-P(1.26)), 4))"
   ]
  },
  {
   "cell_type": "markdown",
   "metadata": {},
   "source": [
    "- **a.2)**\n",
    "   - `P(Z < −0.86)` ?"
   ]
  },
  {
   "cell_type": "code",
   "execution_count": 42,
   "metadata": {},
   "outputs": [
    {
     "name": "stdout",
     "output_type": "stream",
     "text": [
      "P(Z < -0.86) =  0.1949\n"
     ]
    }
   ],
   "source": [
    "print('P(Z < -0.86) = ',round(P(-0.86), 4))"
   ]
  },
  {
   "cell_type": "markdown",
   "metadata": {},
   "source": [
    "- **a.3)**\n",
    "   - `P(Z > −1.37)` ?"
   ]
  },
  {
   "cell_type": "code",
   "execution_count": 43,
   "metadata": {},
   "outputs": [
    {
     "name": "stdout",
     "output_type": "stream",
     "text": [
      "P(Z > -1.37) =  0.9147\n"
     ]
    }
   ],
   "source": [
    "print('P(Z > -1.37) = ', round((1-P(-1.37)), 4))"
   ]
  },
  {
   "cell_type": "markdown",
   "metadata": {},
   "source": [
    "- **a.4)**\n",
    "   - `P(−1.25 < Z < 0.37)` ?"
   ]
  },
  {
   "cell_type": "code",
   "execution_count": 44,
   "metadata": {},
   "outputs": [
    {
     "name": "stdout",
     "output_type": "stream",
     "text": [
      "P(−1.25 < Z < 0.37) =  0.5387\n"
     ]
    }
   ],
   "source": [
    "print('P(−1.25 < Z < 0.37) = ',round(P(0.37,b=-1.25), 4))"
   ]
  },
  {
   "cell_type": "markdown",
   "metadata": {},
   "source": [
    "- **a.5)**\n",
    "   - `P(Z ≤ −4.6)` ?"
   ]
  },
  {
   "cell_type": "code",
   "execution_count": 45,
   "metadata": {},
   "outputs": [
    {
     "name": "stdout",
     "output_type": "stream",
     "text": [
      "P(Z ≤ −4.6) =  0.0\n"
     ]
    }
   ],
   "source": [
    "print('P(Z ≤ −4.6) = ',round(P(-4.6), 4))"
   ]
  },
  {
   "cell_type": "markdown",
   "metadata": {},
   "source": [
    "**b) Find the value z such that `P(Z > z) = 0.05`**"
   ]
  },
  {
   "cell_type": "code",
   "execution_count": 46,
   "metadata": {},
   "outputs": [
    {
     "name": "stdout",
     "output_type": "stream",
     "text": [
      "P(Z > z) = 0.05 is  1.6449\n"
     ]
    }
   ],
   "source": [
    "print('P(Z > z) = 0.05 is ', round((-1*norm.ppf(0.05)), 4))"
   ]
  },
  {
   "cell_type": "markdown",
   "metadata": {},
   "source": [
    "**c) Find the value of z such that `P(−z < Z < z) = 0.99`**"
   ]
  },
  {
   "cell_type": "code",
   "execution_count": 47,
   "metadata": {},
   "outputs": [
    {
     "name": "stdout",
     "output_type": "stream",
     "text": [
      "𝑃(−𝑧 < 𝑍 < 𝑧) = 0.99 is  2.5758\n"
     ]
    }
   ],
   "source": [
    "print('𝑃(−𝑧 < 𝑍 < 𝑧) = 0.99 is ',round((abs(norm.ppf(0.005))), 4))"
   ]
  },
  {
   "cell_type": "markdown",
   "metadata": {},
   "source": [
    "# ***Problem Statement 11:***\n",
    "\n",
    "- The current flow in a copper wire follow a normal distribution with a mean of 10 mA and a variance of 4 (mA)2.\n",
    "  - What is the probability that a current measurement will exceed 13 mA? \n",
    "  - What is the probability that a current measurement is between 9 and 11mA? \n",
    "- **Determine the current measurement which has a probability of 0.98.**"
   ]
  },
  {
   "cell_type": "markdown",
   "metadata": {},
   "source": [
    "#### **`Solution :- `**"
   ]
  },
  {
   "cell_type": "code",
   "execution_count": 48,
   "metadata": {},
   "outputs": [],
   "source": [
    "from scipy import integrate\n",
    "from scipy.stats import norm\n",
    "\n",
    "mean = 10\n",
    "std = np.sqrt(4)\n",
    "\n",
    "def calcula(z, b = -np.inf):\n",
    "    z = (z - mean) / std\n",
    "    return integrate.quad(norm.pdf, b, z)[0]"
   ]
  },
  {
   "cell_type": "markdown",
   "metadata": {},
   "source": [
    "**The probability that a current measurement will exceed 13 mA is :**"
   ]
  },
  {
   "cell_type": "code",
   "execution_count": 49,
   "metadata": {},
   "outputs": [
    {
     "data": {
      "text/plain": [
       "0.0668"
      ]
     },
     "execution_count": 49,
     "metadata": {},
     "output_type": "execute_result"
    }
   ],
   "source": [
    "round(1-calcula(13), 4)"
   ]
  },
  {
   "cell_type": "markdown",
   "metadata": {},
   "source": [
    "**The probability that a current measurement is between 9 and 11mA**"
   ]
  },
  {
   "cell_type": "code",
   "execution_count": 50,
   "metadata": {},
   "outputs": [
    {
     "data": {
      "text/plain": [
       "1.3085"
      ]
     },
     "execution_count": 50,
     "metadata": {},
     "output_type": "execute_result"
    }
   ],
   "source": [
    "round(1 - calcula(11, b = 9), 4)"
   ]
  },
  {
   "cell_type": "markdown",
   "metadata": {},
   "source": [
    "# ***Problem Statement 12:***\n",
    "\n",
    "- The shaft in a piston has its diameter normally distributed with a mean of 0.2508 inch and a standard deviation of 0.0005 inch. The specifications of the shaft are 0.2500 ∓ 0.0015 inch. \n",
    "  - What proportion of shafts are in sync with the specifications? \n",
    "  - If the process is centered so that the mean is equal to the target value of 0.2500, what proportion of shafts conform to the new specifications? \n",
    "- **What is your conclusion from this experiment?**"
   ]
  },
  {
   "cell_type": "markdown",
   "metadata": {},
   "source": [
    "#### **`Solution :- `**"
   ]
  },
  {
   "cell_type": "code",
   "execution_count": 51,
   "metadata": {},
   "outputs": [],
   "source": [
    "mean = 0.2508\n",
    "std = 0.0005\n",
    "\n",
    "def calcu(mean, std, a, b) :\n",
    "    a = (a - mean) / std\n",
    "    b = (b - mean) / std\n",
    "    print(round(b, 4))"
   ]
  },
  {
   "cell_type": "markdown",
   "metadata": {},
   "source": [
    "**Proportion of shafts with dia in range of`0.2485 < d < 0.2515` when mean diameter :**"
   ]
  },
  {
   "cell_type": "code",
   "execution_count": 52,
   "metadata": {},
   "outputs": [
    {
     "name": "stdout",
     "output_type": "stream",
     "text": [
      "1.4\n"
     ]
    },
    {
     "data": {
      "text/plain": [
       "(0.2508, None)"
      ]
     },
     "execution_count": 52,
     "metadata": {},
     "output_type": "execute_result"
    }
   ],
   "source": [
    "0.2508, calcu(0.2508, 0.0005, 0.2485, 0.2515)"
   ]
  },
  {
   "cell_type": "markdown",
   "metadata": {},
   "source": [
    "**Proportion of shafts with dia in range of `0.2485 < d < 0.2515` when mean diameter :**"
   ]
  },
  {
   "cell_type": "code",
   "execution_count": 53,
   "metadata": {},
   "outputs": [
    {
     "name": "stdout",
     "output_type": "stream",
     "text": [
      "3.0\n"
     ]
    },
    {
     "data": {
      "text/plain": [
       "(0.25, None)"
      ]
     },
     "execution_count": 53,
     "metadata": {},
     "output_type": "execute_result"
    }
   ],
   "source": [
    "0.2500, calcu(0.2500, 0.0005, 0.2485, 0.2515)"
   ]
  },
  {
   "cell_type": "markdown",
   "metadata": {},
   "source": [
    "- Within the range of `0.2485 < d < 0.2515` A manufacturing process with **mean of 0.25** gives **maximum proportion of required shafts**, there by reducing amount of scrap and reprocessing time.\n",
    "\n",
    "- When compared to any other manufacturing process whose mean deviates from that of 0.25 less proportion of required shafts are obtained. The more the manufucaturing process deviaties from 0.25, lesser will be the proportion of reqired safts obtained.\n",
    "\n",
    "- Mathematically, \n",
    "   - In a given range `0.2485 < d < 0.2515` , \n",
    "   - if there are two noraml distributrions (manufacturing processes) with `same standard deviation`, **more area will be covered by the distribution whose mean is closer to mean of the interval i.e 0.25**"
   ]
  },
  {
   "cell_type": "markdown",
   "metadata": {},
   "source": [
    "- **OR**"
   ]
  },
  {
   "cell_type": "markdown",
   "metadata": {},
   "source": [
    "- `P(0.2485 < d < 0.2515)` = `P( 0.2485 – 0.2508 < Z < 0.2515 – 0.2508)` ~ **0.92**\n",
    "     - Where,  \n",
    "        - 0.2485 – 0.2508 = 0.0005 \n",
    "        - 0.2515 – 0.2508 = 0.0005\n",
    "- About 92% of diameters conforms to specificationsWhat \n",
    "   - `The target` : **0.2500**\n",
    "   - `The process mean` : **0.2508**\n",
    "   - The specification limits : \n",
    "      - `LSL` : **0.2485**\n",
    "      - `USL` : **0.2515**\n",
    "- The process centered : \n",
    "   - (process mean = target) \n",
    "- The proportion of shafts that conforms to specification if the process iscentered :\n",
    "   - `P(0.2485 < d < 0.2515)` = `P( 0.2485 –0.2500 < Z < 0.2515 – 0.2500)` = 0.9973\n",
    "     - where, \n",
    "       - 0.2485 – 0.2500 = 0.0005\n",
    "       - 0.2515 – 0.2500 = 0.0005\n",
    "- It would be increased from `92%` to `99.73%`\n"
   ]
  },
  {
   "cell_type": "code",
   "execution_count": null,
   "metadata": {},
   "outputs": [],
   "source": []
  }
 ],
 "metadata": {
  "kernelspec": {
   "display_name": "Python 3",
   "language": "python",
   "name": "python3"
  },
  "language_info": {
   "codemirror_mode": {
    "name": "ipython",
    "version": 3
   },
   "file_extension": ".py",
   "mimetype": "text/x-python",
   "name": "python",
   "nbconvert_exporter": "python",
   "pygments_lexer": "ipython3",
   "version": "3.8.1"
  }
 },
 "nbformat": 4,
 "nbformat_minor": 4
}
