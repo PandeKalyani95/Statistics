{
 "cells": [
  {
   "cell_type": "markdown",
   "metadata": {},
   "source": [
    "# Q1"
   ]
  },
  {
   "cell_type": "markdown",
   "metadata": {},
   "source": [
    "# **`Problem Statement 1`**:\n",
    "- Blood glucose levels for obese patients have a mean of 100 with a standard deviation of 15. A researcher thinks that a diet high in raw cornstarch will have a positive effect on blood glucose levels. A sample of 36 patients who have tried the raw cornstarch diet have a mean glucose level of 108. Test the hypothesis that the raw cornstarch had an effect or not."
   ]
  },
  {
   "cell_type": "markdown",
   "metadata": {},
   "source": [
    "#### **`Solution`**:-"
   ]
  },
  {
   "cell_type": "markdown",
   "metadata": {},
   "source": [
    "#### Step - 1: Set the Null hypothesis\n",
    "- To test\n",
    "    - H0: The raw cornstarch had not effect \n",
    "    - H1: The raw cornstarch had an effect\n"
   ]
  },
  {
   "cell_type": "markdown",
   "metadata": {},
   "source": [
    "#### Step - 2: calculate the test statistics\n",
    "![image](https://miro.medium.com/max/287/1*b7iZyQyP8SJ-W51x_L5ekg.png)\n"
   ]
  },
  {
   "cell_type": "code",
   "execution_count": 5,
   "metadata": {},
   "outputs": [],
   "source": [
    "import math\n",
    "\n",
    "n = 36          # Sample Size\n",
    "x_bar = 108     # Sample Mean\n",
    "mu = 100        # Population Mean\n",
    "sigma = 15      # Standard Deviation of Population"
   ]
  },
  {
   "cell_type": "code",
   "execution_count": 8,
   "metadata": {},
   "outputs": [
    {
     "name": "stdout",
     "output_type": "stream",
     "text": [
      "Z Test : 3.2\n"
     ]
    }
   ],
   "source": [
    "Z_Test = (x_bar - mu) / (sigma /math.sqrt(n))\n",
    "print(\"Z Test :\",z)"
   ]
  },
  {
   "cell_type": "markdown",
   "metadata": {},
   "source": [
    "### Step – 3 Set Rejection region\n",
    "- Set up the alpha (level of significance). It is not given in the problem.\n",
    "- Considering alpha as `0.05`. \n",
    "- Tabulated z for 0.05 alpha (l.o.s) is `1.645`\n",
    "- we have\n",
    "   - **`Z(cal) = 3.2`**\n",
    "   - **`Z(tab (0.05)) = 1.645`**\n",
    "\n"
   ]
  },
  {
   "cell_type": "markdown",
   "metadata": {},
   "source": [
    "### Step – 4 Conclude\n",
    "- As per z test results\n",
    "    - **`Z(tab (0.05)) < Z(cal)`**\n",
    "- therefore we reject H0\n",
    "- i.e. there is raw cornstarch had an effect"
   ]
  },
  {
   "cell_type": "markdown",
   "metadata": {},
   "source": [
    "# Q2"
   ]
  },
  {
   "cell_type": "markdown",
   "metadata": {},
   "source": [
    "# **`Problem Statement 2`**:\n",
    "- In one state, 52% of the voters are Republicans, and 48% are Democrats. In a second state, 47% of the voters are Republicans, and 53% are Democrats. Suppose a simple random sample of 100 voters are surveyed from each state. What is the probability that the survey will show a greater percentage of Republican voters in the second state than in the first state?"
   ]
  },
  {
   "cell_type": "markdown",
   "metadata": {},
   "source": [
    "#### **`Solution`**:-"
   ]
  },
  {
   "cell_type": "markdown",
   "metadata": {},
   "source": [
    "- let :-\n",
    "    - P1 = the proportion of Republican voters in the first state\n",
    "    - P2 = the proportion of Republican voters in the second state\n",
    "    - p1 = the proportion of Republican voters in the sample from the first state\n",
    "    - p2 = the proportion of Republican voters in the sample from the second state. "
   ]
  },
  {
   "cell_type": "code",
   "execution_count": 18,
   "metadata": {},
   "outputs": [],
   "source": [
    "n1 = 100     # The number of voters sampled from the first state.\n",
    "n2 = 100     # The number of voters sampled from the second state.\n",
    "P1 = 0.52 \n",
    "Q1 = 0.48    # (1 - P1)\n",
    "P2 = 0.47 \n",
    "Q2 = 0.53    # (1 - P2)\n",
    "mu = P1-P2   # The mean of the difference in sample proportions "
   ]
  },
  {
   "cell_type": "markdown",
   "metadata": {},
   "source": [
    "- Make sure the `samples from each population are big enough to model differences with a normal distribution`. \n",
    "- Because \n",
    "    - n1P1 = 100 * 0.52 = `52`\n",
    "    - n1(1 - P1) = 100 * 0.48 = `48` \n",
    "    - n2P2 = 100 * 0.47 = `47`\n",
    "    - n2(1 - P2) = 100 * 0.53 = `53` \n",
    "- are each greater than 10, the `sample size is large enough`.\n",
    " "
   ]
  },
  {
   "cell_type": "code",
   "execution_count": 23,
   "metadata": {},
   "outputs": [
    {
     "name": "stdout",
     "output_type": "stream",
     "text": [
      "Mu  :  0.05\n",
      "Std :  0.07\n"
     ]
    }
   ],
   "source": [
    "# The standard deviation of the difference (std)\n",
    "\n",
    "std = math.sqrt(((P1 * Q1 ) / n1) + ((P2 * Q2) /n2))\n",
    "print(\"Mu  : \", round(mu,2))\n",
    "print(\"Std : \", round(std,2))"
   ]
  },
  {
   "cell_type": "markdown",
   "metadata": {},
   "source": [
    "- **`Find the probability`**\n",
    "- This problem requires us to find the probability that `p1 is less than p2`. \n",
    "- This is equivalent to finding the probability that `p1 - p2 is less than zero`. "
   ]
  },
  {
   "cell_type": "code",
   "execution_count": 27,
   "metadata": {},
   "outputs": [],
   "source": [
    "x = 0"
   ]
  },
  {
   "cell_type": "markdown",
   "metadata": {},
   "source": [
    "- To find this probability, we need to transform the random variable `(p1 - p2) into a z-score`.\n",
    "- That transformation appears below."
   ]
  },
  {
   "cell_type": "code",
   "execution_count": 30,
   "metadata": {},
   "outputs": [
    {
     "name": "stdout",
     "output_type": "stream",
     "text": [
      "Z_(p1,p2):  -0.708\n"
     ]
    }
   ],
   "source": [
    "Z_p1_p2 = (x - mu) / std \n",
    "print(\"Z_(p1,p2): \", round(Z_p1_p2, 4))"
   ]
  },
  {
   "cell_type": "markdown",
   "metadata": {},
   "source": [
    "- From Z table we find that the probability of a z-score being `-0.7082` or less is `0.24`.\n",
    "- Therefore, the probability that the survey will show a greater percentage of Republican voters in the second state than in the first state is 0.24."
   ]
  },
  {
   "cell_type": "markdown",
   "metadata": {},
   "source": [
    "# Q3"
   ]
  },
  {
   "cell_type": "markdown",
   "metadata": {},
   "source": [
    "# **`Problem Statement 3`**:\n",
    "- You take the SAT and score 1100. The mean score for the SAT is 1026 and the standard deviation is 209. How well did you score on the test compared to the average test taker?"
   ]
  },
  {
   "cell_type": "markdown",
   "metadata": {},
   "source": [
    "#### **`Solution`**:-"
   ]
  },
  {
   "cell_type": "code",
   "execution_count": 10,
   "metadata": {},
   "outputs": [],
   "source": [
    "x = 1100      # Observed Value\n",
    "mu = 1026     # Population Mean\n",
    "sigma = 209   # Standard Deviation of Population\n"
   ]
  },
  {
   "cell_type": "code",
   "execution_count": 13,
   "metadata": {},
   "outputs": [
    {
     "name": "stdout",
     "output_type": "stream",
     "text": [
      "Z Score :  0.35406698564593303\n"
     ]
    }
   ],
   "source": [
    "z = ( x - mu)/sigma\n",
    "print(\"Z Score : \",z)"
   ]
  },
  {
   "cell_type": "markdown",
   "metadata": {},
   "source": [
    "- The z score tells you how many standard deviations from the mean your score is. In this example, `score is 0.35406` \n"
   ]
  },
  {
   "cell_type": "code",
   "execution_count": null,
   "metadata": {},
   "outputs": [],
   "source": []
  }
 ],
 "metadata": {
  "kernelspec": {
   "display_name": "Python 3",
   "language": "python",
   "name": "python3"
  },
  "language_info": {
   "codemirror_mode": {
    "name": "ipython",
    "version": 3
   },
   "file_extension": ".py",
   "mimetype": "text/x-python",
   "name": "python",
   "nbconvert_exporter": "python",
   "pygments_lexer": "ipython3",
   "version": "3.8.1"
  }
 },
 "nbformat": 4,
 "nbformat_minor": 4
}
